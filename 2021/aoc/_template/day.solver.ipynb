{
 "cells": [
  {
   "cell_type": "markdown",
   "metadata": {},
   "source": [
    "# Advent of Code 2021 - Day ???\n",
    "\n",
    "## Setup\n",
    "\n",
    "Parse and style."
   ]
  },
  {
   "cell_type": "code",
   "execution_count": null,
   "metadata": {},
   "outputs": [],
   "source": [
    "from libaoc.styles import *\n",
    "\n",
    "#plotStyle()\n",
    "\n",
    "#def plotSetup():\n",
    "#    plotInvertY(.1)\n",
    "#    plt.ylabel(\"depth\")\n",
    "\n",
    "_inputText = open('day???.input.txt').read()\n",
    "_inputData = #[(m, int(d)) for m, d in re.findall('(\\w+) (\\d+)', _inputText)]\n",
    "\n",
    "_sampleData = []"
   ]
  },
  {
   "cell_type": "markdown",
   "metadata": {},
   "source": [
    "## Part 1\n",
    "\n",
    "Algorithm:\n",
    "\n",
    "* ???"
   ]
  },
  {
   "cell_type": "code",
   "execution_count": null,
   "metadata": {},
   "outputs": [],
   "source": [
    "def solve1():\n",
    "    return 0\n",
    "\n",
    "#assert solve1(_sampleData) == 150\n",
    "#plt.title('   Part 1: Sample Data')"
   ]
  },
  {
   "cell_type": "code",
   "execution_count": null,
   "metadata": {},
   "outputs": [],
   "source": [
    "#assert (s1 := solve1(_inputData)) == 1604850\n",
    "#print(f\"result = {s1}\")\n",
    "#plt.title('   Part 1: Input Data')"
   ]
  },
  {
   "cell_type": "markdown",
   "metadata": {},
   "source": [
    "## Part 2\n",
    "\n",
    "???\n",
    "\n",
    "* ???"
   ]
  },
  {
   "cell_type": "code",
   "execution_count": null,
   "metadata": {},
   "outputs": [],
   "source": [
    "def solve2():\n",
    "    return 0\n",
    "\n",
    "#assert solve2(_sampleData) == 900\n",
    "#plt.title('   Part 2: Sample Data')"
   ]
  },
  {
   "cell_type": "code",
   "execution_count": null,
   "metadata": {},
   "outputs": [],
   "source": [
    "#assert (s2 := solve2(_inputData)) == 1685186100\n",
    "#print(f\"result = {s2}\")\n",
    "#plt.title('   Part 2: Input Data')"
   ]
  }
 ],
 "metadata": {
  "interpreter": {
   "hash": "259d46a856a68fc5aa2a45c3a00f90e52057802f6a8d13fbef7357a0788dbdf0"
  },
  "kernelspec": {
   "display_name": ".NET (C#)",
   "language": "python",
   "name": "python3"
  },
  "language_info": {
   "codemirror_mode": {
    "name": "ipython",
    "version": 3
   },
   "file_extension": ".py",
   "mimetype": "text/x-python",
   "name": "python",
   "nbconvert_exporter": "python",
   "pygments_lexer": "ipython3",
   "version": "3.10.0"
  },
  "orig_nbformat": 4
 },
 "nbformat": 4,
 "nbformat_minor": 2
}
