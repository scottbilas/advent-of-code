{
 "cells": [
  {
   "cell_type": "markdown",
   "metadata": {},
   "source": [
    "# Advent of Code 2021 - Day 1\n",
    "\n",
    "## Setup\n",
    "\n",
    "Read in strings, parse to ints."
   ]
  },
  {
   "cell_type": "code",
   "execution_count": 102,
   "metadata": {},
   "outputs": [
    {
     "data": {
      "text/plain": [
       "[<matplotlib.lines.Line2D at 0x186218fa0b0>]"
      ]
     },
     "execution_count": 102,
     "metadata": {},
     "output_type": "execute_result"
    },
    {
     "data": {
      "image/png": "[encoded data removed]",
      "text/plain": [
       "<Figure size 720x144 with 1 Axes>"
      ]
     },
     "metadata": {},
     "output_type": "display_data"
    }
   ],
   "source": [
    "import re\n",
    "import matplotlib.pyplot as plt\n",
    "import matplotlib as mpl\n",
    "plt.style.use('dark_background')\n",
    "mpl.rcParams['axes.facecolor'] = '#071318'\n",
    "mpl.rcParams['axes.linewidth'] = 0\n",
    "mpl.rcParams['axes.titlecolor'] = '#c7985d'\n",
    "mpl.rcParams['axes.titlelocation'] = 'left'\n",
    "mpl.rcParams['axes.titlesize'] = 13\n",
    "mpl.rcParams['axes.titley'] = .80\n",
    "mpl.rcParams['axes.xmargin'] = .03\n",
    "mpl.rcParams['axes.ymargin'] = .2\n",
    "mpl.rcParams['figure.facecolor'] = '#131a1f'\n",
    "mpl.rcParams['figure.figsize'] = (10,2)\n",
    "mpl.rcParams['xtick.color'] = '#abacad'\n",
    "mpl.rcParams['ytick.color'] = '#abacad'\n",
    "\n",
    "_inputText = open('day1.input.txt').read()\n",
    "_inputData = [int(x) for x in re.findall('\\d+', _inputText)]\n",
    "\n",
    "_sampleData = [\n",
    "    199,\n",
    "    200,\n",
    "    208,\n",
    "    210,\n",
    "    200,\n",
    "    207,\n",
    "    240,\n",
    "    269,\n",
    "    260,\n",
    "    263]\n",
    "\n",
    "plt.title('   Sample Data'); plt.plot(_sampleData)"
   ]
  },
  {
   "cell_type": "code",
   "execution_count": 103,
   "metadata": {},
   "outputs": [
    {
     "data": {
      "text/plain": [
       "[<matplotlib.lines.Line2D at 0x1862194ef80>]"
      ]
     },
     "execution_count": 103,
     "metadata": {},
     "output_type": "execute_result"
    },
    {
     "data": {
      "image/png": "[encoded data removed]",
      "text/plain": [
       "<Figure size 720x144 with 1 Axes>"
      ]
     },
     "metadata": {},
     "output_type": "display_data"
    }
   ],
   "source": [
    "plt.title('   Input Data'); plt.plot(_inputData)"
   ]
  },
  {
   "cell_type": "markdown",
   "metadata": {},
   "source": [
    "## Solver\n",
    "\n",
    "Part 1 and 2 can use the same solver:\n",
    "\n",
    "* Walk list of ints\n",
    "* Sum a moving window of given size\n",
    "* Count instances where a sum is greater than the previous sum"
   ]
  },
  {
   "cell_type": "code",
   "execution_count": 104,
   "metadata": {},
   "outputs": [],
   "source": [
    "def solve(depths, window):\n",
    "    last, count = 0, 0\n",
    "    for depth in range(len(depths) - window):\n",
    "        s = sum(depths[depth:depth+window])\n",
    "        if s > last:\n",
    "            count += 1\n",
    "        last = s\n",
    "    return count"
   ]
  },
  {
   "cell_type": "markdown",
   "metadata": {},
   "source": [
    "## Part 1\n",
    "\n",
    "Window size = 1."
   ]
  },
  {
   "cell_type": "code",
   "execution_count": 105,
   "metadata": {
    "dotnet_interactive": {
     "language": "pwsh"
    }
   },
   "outputs": [
    {
     "name": "stdout",
     "output_type": "stream",
     "text": [
      "result = 1681\n"
     ]
    }
   ],
   "source": [
    "def solve1(depths):\n",
    "    return solve(depths, 1)\n",
    "\n",
    "assert solve1(_sampleData) == 7\n",
    "\n",
    "s1 = solve1(_inputData)\n",
    "print(f\"result = {s1}\")\n",
    "assert s1 == 1681"
   ]
  },
  {
   "cell_type": "markdown",
   "metadata": {},
   "source": [
    "## Part 2\n",
    "\n",
    "Window size = 3."
   ]
  },
  {
   "cell_type": "code",
   "execution_count": 106,
   "metadata": {},
   "outputs": [
    {
     "name": "stdout",
     "output_type": "stream",
     "text": [
      "result = 1704\n"
     ]
    }
   ],
   "source": [
    "def solve2(depths):\n",
    "    return solve(depths, 3)\n",
    "\n",
    "assert solve2(_sampleData) == 5\n",
    "\n",
    "s2 = solve2(_inputData)\n",
    "print(f\"result = {s2}\")\n",
    "assert s2 == 1704"
   ]
  }
 ],
 "metadata": {
  "interpreter": {
   "hash": "259d46a856a68fc5aa2a45c3a00f90e52057802f6a8d13fbef7357a0788dbdf0"
  },
  "kernelspec": {
   "display_name": ".NET (C#)",
   "language": "python",
   "name": "python3"
  },
  "language_info": {
   "codemirror_mode": {
    "name": "ipython",
    "version": 3
   },
   "file_extension": ".py",
   "mimetype": "text/x-python",
   "name": "python",
   "nbconvert_exporter": "python",
   "pygments_lexer": "ipython3",
   "version": "3.10.0"
  },
  "orig_nbformat": 4
 },
 "nbformat": 4,
 "nbformat_minor": 2
}
