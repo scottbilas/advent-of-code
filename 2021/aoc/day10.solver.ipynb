{
 "cells": [
  {
   "cell_type": "markdown",
   "metadata": {},
   "source": [
    "# Day 10 \"Syntax Scoring\"\n",
    "\n",
    "## Part 1\n",
    "\n",
    "### Problem\n",
    "\n",
    "You ask the submarine to determine the best route out of the deep-sea cave, but it only replies:\n",
    "\n",
    "Syntax error in navigation subsystem on line: all of them\n",
    "\n",
    "All of them?! The damage is worse than you thought. You bring up a copy of the navigation subsystem (your puzzle input).\n",
    "\n",
    "The navigation subsystem syntax is made of several lines containing chunks. There are one or more chunks on each line, and chunks contain zero or more other chunks. Adjacent chunks are not separated by any delimiter; if one chunk stops, the next chunk (if any) can immediately start. Every chunk must open and close with one of four legal pairs of matching characters:\n",
    "\n",
    "    If a chunk opens with (, it must close with ).\n",
    "    If a chunk opens with [, it must close with ].\n",
    "    If a chunk opens with {, it must close with }.\n",
    "    If a chunk opens with <, it must close with >.\n",
    "\n",
    "So, `()` is a legal chunk that contains no other chunks, as is `[]`. More complex but valid chunks include `([])`, `{()()()}`, `<([{}])>`, `[<>({}){}[([])<>]]`, and even `(((((((((())))))))))`.\n",
    "\n",
    "Some lines are incomplete, but others are corrupted. Find and discard the corrupted lines first.\n",
    "\n",
    "A corrupted line is one where a chunk closes with the wrong character - that is, where the characters it opens and closes with do not form one of the four legal pairs listed above.\n",
    "\n",
    "Examples of corrupted chunks include `(]`, `{()()()>`, `(((()))}`, and `<([]){()}[{}])`. Such a chunk can appear anywhere within a line, and its presence causes the whole line to be considered corrupted.\n",
    "\n",
    "For example, consider the following navigation subsystem:\n",
    "\n",
    "    [({(<(())[]>[[{[]{<()<>>\n",
    "    [(()[<>])]({[<{<<[]>>(\n",
    "    {([(<{}[<>[]}>{[]{[(<()>\n",
    "    (((({<>}<{<{<>}{[]{[]{}\n",
    "    [[<[([]))<([[{}[[()]]]\n",
    "    [{[{({}]{}}([{[{{{}}([]\n",
    "    {<[[]]>}<{[{[{[]{()[[[]\n",
    "    [<(<(<(<{}))><([]([]()\n",
    "    <{([([[(<>()){}]>(<<{{\n",
    "    <{([{{}}[<[[[<>{}]]]>[]]\n",
    "\n",
    "Some of the lines aren't corrupted, just incomplete; you can ignore these lines for now. The remaining five lines are corrupted:\n",
    "\n",
    "    {([(<{}[<>[]}>{[]{[(<()> - Expected ], but found } instead.\n",
    "    [[<[([]))<([[{}[[()]]]   - Expected ], but found ) instead.\n",
    "    [{[{({}]{}}([{[{{{}}([]  - Expected ), but found ] instead.\n",
    "    [<(<(<(<{}))><([]([]()   - Expected >, but found ) instead.\n",
    "    <{([([[(<>()){}]>(<<{{   - Expected ], but found > instead.\n",
    "\n",
    "Stop at the first incorrect closing character on each corrupted line.\n",
    "\n",
    "Did you know that syntax checkers actually have contests to see who can get the high score for syntax errors in a file? It's true! To calculate the syntax error score for a line, take the first illegal character on the line and look it up in the following table:\n",
    "\n",
    "    ): 3 points.\n",
    "    ]: 57 points.\n",
    "    }: 1197 points.\n",
    "    >: 25137 points.\n",
    "\n",
    "In the above example, an illegal `)` was found twice (2*3 = 6 points), an illegal `]` was found once (57 points), an illegal `}` was found once (1197 points), and an illegal `>` was found once (25137 points). So, the total syntax error score for this file is 6+57+1197+25137 = 26397 points!\n",
    "\n",
    "Find the first illegal character in each corrupted line of the navigation subsystem. What is the total syntax error score for those errors?\n",
    "\n",
    "### Setup"
   ]
  },
  {
   "cell_type": "code",
   "execution_count": 1,
   "metadata": {},
   "outputs": [],
   "source": [
    "from utils import *\n",
    "\n",
    "_input = initDay('day10').splitlines()\n",
    "_sample = getMarkdown('For example').splitlines()"
   ]
  },
  {
   "cell_type": "markdown",
   "metadata": {},
   "source": [
    "### Solution\n",
    "\n",
    "Straightforward stack and match problem. Append open chars, pop on finding a close char. If it doesn't match, that's the first illegal char, so score it and return the sum. If the stack is empty, then it's not illegal, merely incomplete, and can be ignored.\n",
    "\n",
    "Part 2 is similar enough to this that I implemented a \"partial stack selector\" that takes a function to return some context to use in the result aggregation. Here, for Part 1, it just returns the score at the failing character. "
   ]
  },
  {
   "cell_type": "code",
   "execution_count": 2,
   "metadata": {},
   "outputs": [
    {
     "name": "stdout",
     "output_type": "stream",
     "text": [
      "Part 1 Result: 166191\n"
     ]
    }
   ],
   "source": [
    "def select_stacks(lines, func):\n",
    "    for line in lines:\n",
    "        stack, result = [], 0\n",
    "        for c in line:\n",
    "            if (i := ')]}>'.find(c)) < 0:\n",
    "                stack.append(c)\n",
    "            elif not stack or stack.pop() != '([{<'[i]:\n",
    "                result = func(i)\n",
    "                break\n",
    "        yield result, stack\n",
    "\n",
    "def solve1(lines):\n",
    "    return sum([v[0] for v in select_stacks(lines, lambda i: [3, 57, 1197, 25137][i])])\n",
    "\n",
    "check(solve1(_sample), 26397)\n",
    "check1(solve1(_input))"
   ]
  },
  {
   "cell_type": "markdown",
   "metadata": {},
   "source": [
    "## Part 2\n",
    "\n",
    "### Problem\n",
    "\n",
    "Now, discard the corrupted lines. The remaining lines are incomplete.\n",
    "\n",
    "Incomplete lines don't have any incorrect characters - instead, they're missing some closing characters at the end of the line. To repair the navigation subsystem, you just need to figure out the sequence of closing characters that complete all open chunks in the line.\n",
    "\n",
    "You can only use closing characters (`)`, `]`, `}`, or `>`), and you must add them in the correct order so that only legal pairs are formed and all chunks end up closed.\n",
    "\n",
    "In the example above, there are five incomplete lines:\n",
    "\n",
    "    [({(<(())[]>[[{[]{<()<>> - Complete by adding }}]])})].\n",
    "    [(()[<>])]({[<{<<[]>>(   - Complete by adding )}>]}).\n",
    "    (((({<>}<{<{<>}{[]{[]{}  - Complete by adding }}>}>)))).\n",
    "    {<[[]]>}<{[{[{[]{()[[[]  - Complete by adding ]]}}]}]}>.\n",
    "    <{([{{}}[<[[[<>{}]]]>[]] - Complete by adding ])}>.\n",
    "\n",
    "Did you know that autocomplete tools also have contests? It's true! The score is determined by considering the completion string character-by-character. Start with a total score of 0. Then, for each character, multiply the total score by 5 and then increase the total score by the point value given for the character in the following table:\n",
    "\n",
    "    ): 1 point.\n",
    "    ]: 2 points.\n",
    "    }: 3 points.\n",
    "    >: 4 points.\n",
    "\n",
    "So, the last completion string above - `])}>` - would be scored as follows:\n",
    "\n",
    "    Start with a total score of 0.\n",
    "    Multiply the total score by 5 to get 0, then add the value of ] (2) to get a new total score of 2.\n",
    "    Multiply the total score by 5 to get 10, then add the value of ) (1) to get a new total score of 11.\n",
    "    Multiply the total score by 5 to get 55, then add the value of } (3) to get a new total score of 58.\n",
    "    Multiply the total score by 5 to get 290, then add the value of > (4) to get a new total score of 294.\n",
    "\n",
    "The five lines' completion strings have total scores as follows:\n",
    "\n",
    "    }}]])})]  - 288957 total points.\n",
    "    )}>]})    - 5566 total points.\n",
    "    }}>}>)))) - 1480781 total points.\n",
    "    ]]}}]}]}> - 995444 total points.\n",
    "    ])}>      - 294 total points.\n",
    "\n",
    "Autocomplete tools are an odd bunch: the winner is found by sorting all of the scores and then taking the middle score. (There will always be an odd number of scores to consider.) In this example, the middle score is 288957 because there are the same number of scores smaller and larger than it.\n",
    "\n",
    "Find the completion string for each incomplete line, score the completion strings, and sort the scores. What is the middle score?\n",
    "\n",
    "### Solution\n",
    "\n",
    "Part 2 is similar to Part 1, except that we use -1 to filter invalid lines. The returned stacks are scored and the midpoint is the final result."
   ]
  },
  {
   "cell_type": "code",
   "execution_count": 3,
   "metadata": {},
   "outputs": [
    {
     "name": "stdout",
     "output_type": "stream",
     "text": [
      "Part 2 Result: 1152088313\n"
     ]
    }
   ],
   "source": [
    "def solve2(lines):\n",
    "    stacks, scores = [v[1] for v in select_stacks(lines, lambda _: -1) if v[0] != -1], []\n",
    "    for stack in stacks:\n",
    "        parts = ['([{<'.find(c) + 1 for c in reversed(stack)]\n",
    "        scores.append(reduce((lambda a, b: a*5+b), parts))\n",
    "    return sorted(scores)[len(scores)//2]\n",
    "\n",
    "check(solve2(_sample), 288957)\n",
    "check2(solve2(_input))"
   ]
  }
 ],
 "metadata": {
  "interpreter": {
   "hash": "259d46a856a68fc5aa2a45c3a00f90e52057802f6a8d13fbef7357a0788dbdf0"
  },
  "kernelspec": {
   "display_name": ".NET (C#)",
   "language": "python",
   "name": "python3"
  },
  "language_info": {
   "codemirror_mode": {
    "name": "ipython",
    "version": 3
   },
   "file_extension": ".py",
   "mimetype": "text/x-python",
   "name": "python",
   "nbconvert_exporter": "python",
   "pygments_lexer": "ipython3",
   "version": "3.10.1"
  },
  "orig_nbformat": 4
 },
 "nbformat": 4,
 "nbformat_minor": 2
}
