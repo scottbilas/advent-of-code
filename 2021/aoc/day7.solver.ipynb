{
 "cells": [
  {
   "cell_type": "markdown",
   "metadata": {},
   "source": [
    "# Day 7 \"The Treachery of Whales\"\n",
    "\n",
    "## Part 1\n",
    "\n",
    "### Problem\n",
    "\n",
    "A giant whale has decided your submarine is its next meal, and it's much faster than you are. There's nowhere to run!\n",
    "\n",
    "Suddenly, a swarm of crabs (each in its own tiny submarine - it's too deep for them otherwise) zooms in to rescue you! They seem to be preparing to blast a hole in the ocean floor; sensors indicate a massive underground cave system just beyond where they're aiming!\n",
    "\n",
    "The crab submarines all need to be aligned before they'll have enough power to blast a large enough hole for your submarine to get through. However, it doesn't look like they'll be aligned before the whale catches you! Maybe you can help?\n",
    "\n",
    "There's one major catch - crab submarines can only move horizontally.\n",
    "\n",
    "You quickly make a list of the horizontal position of each crab (your puzzle input). Crab submarines have limited fuel, so you need to find a way to make all of their horizontal positions match while requiring them to spend as little fuel as possible.\n",
    "\n",
    "For example, consider the following horizontal positions:\n",
    "\n",
    "        16,1,2,0,4,2,7,1,2,14\n",
    "\n",
    "This means there's a crab with horizontal position 16, a crab with horizontal position 1, and so on.\n",
    "\n",
    "Each change of 1 step in horizontal position of a single crab costs 1 fuel. You could choose any horizontal position to align them all on, but the one that costs the least fuel is horizontal position 2:\n",
    "\n",
    "        Move from 16 to 2: 14 fuel\n",
    "        Move from 1 to 2: 1 fuel\n",
    "        Move from 2 to 2: 0 fuel\n",
    "        Move from 0 to 2: 2 fuel\n",
    "        Move from 4 to 2: 2 fuel\n",
    "        Move from 2 to 2: 0 fuel\n",
    "        Move from 7 to 2: 5 fuel\n",
    "        Move from 1 to 2: 1 fuel\n",
    "        Move from 2 to 2: 0 fuel\n",
    "        Move from 14 to 2: 12 fuel\n",
    "\n",
    "This costs a total of 37 fuel. This is the cheapest possible outcome; more expensive outcomes include aligning at position 1 (41 fuel), position 3 (39 fuel), or position 10 (71 fuel).\n",
    "\n",
    "Determine the horizontal position that the crabs can align to using the least fuel possible. How much fuel must they spend to align to that position?\n",
    "\n",
    "### Setup"
   ]
  },
  {
   "cell_type": "code",
   "execution_count": 28,
   "metadata": {},
   "outputs": [],
   "source": [
    "from utils import *\n",
    "\n",
    "_input = initDay(\"day7\")\n",
    "_inputData = [int(h) for h in re.findall('\\d+', _input)]\n",
    "\n",
    "_sampleData = [16,1,2,0,4,2,7,1,2,14]\n",
    "\n",
    "#plotStyle()\n",
    "\n",
    "#def plot(title):\n",
    "#    plotInvertY(.1)\n",
    "#    plt.ylabel(\"depth\")\n",
    "#    plt.title('   ' + title)"
   ]
  },
  {
   "cell_type": "markdown",
   "metadata": {},
   "source": [
    "### Solution\n",
    "\n",
    "Brute force the full range, calculating the cost to move all crabs to each position, and return the minimum of those costs. Cost is the sum of the distances to a given position for each crab."
   ]
  },
  {
   "cell_type": "code",
   "execution_count": 29,
   "metadata": {},
   "outputs": [
    {
     "name": "stdout",
     "output_type": "stream",
     "text": [
      "Part 1 Result: 344735\n"
     ]
    }
   ],
   "source": [
    "def solve(crabs, cost):\n",
    "    return min([\n",
    "        sum([cost(crab, h) for h in crabs])\n",
    "        for crab in range(max(crabs))])\n",
    "\n",
    "def solve1(crabs):\n",
    "    return solve(crabs, lambda a, b: abs(a-b))\n",
    "\n",
    "check(solve1(_sampleData), 37)\n",
    "check1(solve1(_inputData))"
   ]
  },
  {
   "cell_type": "markdown",
   "metadata": {},
   "source": [
    "## Part 2\n",
    "\n",
    "### Problem\n",
    "\n",
    "The crabs don't seem interested in your proposed solution. Perhaps you misunderstand crab engineering?\n",
    "\n",
    "As it turns out, crab submarine engines don't burn fuel at a constant rate. Instead, each change of 1 step in horizontal position costs 1 more unit of fuel than the last: the first step costs 1, the second step costs 2, the third step costs 3, and so on.\n",
    "\n",
    "As each crab moves, moving further becomes more expensive. This changes the best horizontal position to align them all on; in the example above, this becomes 5:\n",
    "\n",
    "        Move from 16 to 5: 66 fuel\n",
    "        Move from 1 to 5: 10 fuel\n",
    "        Move from 2 to 5: 6 fuel\n",
    "        Move from 0 to 5: 15 fuel\n",
    "        Move from 4 to 5: 1 fuel\n",
    "        Move from 2 to 5: 6 fuel\n",
    "        Move from 7 to 5: 3 fuel\n",
    "        Move from 1 to 5: 10 fuel\n",
    "        Move from 2 to 5: 6 fuel\n",
    "        Move from 14 to 5: 45 fuel\n",
    "\n",
    "This costs a total of 168 fuel. This is the new cheapest possible outcome; the old alignment position (2) now costs 206 fuel instead.\n",
    "\n",
    "Determine the horizontal position that the crabs can align to using the least fuel possible so they can make you an escape route! How much fuel must they spend to align to that position?\n",
    "\n",
    "### Solution\n",
    "\n",
    "Same as Part 1, with a tweak to the cost equation. Now instead of distance, we need the sum of each intermediate distance as well. The forumula for this is `d*(d-1)/2`, something I still remember from grade school!"
   ]
  },
  {
   "cell_type": "code",
   "execution_count": 32,
   "metadata": {},
   "outputs": [
    {
     "name": "stdout",
     "output_type": "stream",
     "text": [
      "Part 2 Result: 96798233\n"
     ]
    }
   ],
   "source": [
    "def cost2(start, end):\n",
    "    d = abs(end - start)+1\n",
    "    return d*(d-1)//2\n",
    "\n",
    "def solve2(crabs):\n",
    "    return solve(crabs, cost2)\n",
    "\n",
    "check(solve2(_sampleData), 168)\n",
    "check2(solve2(_inputData))"
   ]
  }
 ],
 "metadata": {
  "interpreter": {
   "hash": "259d46a856a68fc5aa2a45c3a00f90e52057802f6a8d13fbef7357a0788dbdf0"
  },
  "kernelspec": {
   "display_name": ".NET (C#)",
   "language": "python",
   "name": "python3"
  },
  "language_info": {
   "codemirror_mode": {
    "name": "ipython",
    "version": 3
   },
   "file_extension": ".py",
   "mimetype": "text/x-python",
   "name": "python",
   "nbconvert_exporter": "python",
   "pygments_lexer": "ipython3",
   "version": "3.10.0"
  },
  "orig_nbformat": 4
 },
 "nbformat": 4,
 "nbformat_minor": 2
}
