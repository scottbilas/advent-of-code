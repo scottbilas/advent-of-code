{
 "cells": [
  {
   "cell_type": "markdown",
   "metadata": {},
   "source": [
    "# Day 21 \"Dirac Dice\"\n",
    "\n",
    "## Part 1\n",
    "\n",
    "### Problem\n",
    "\n",
    "There's not much to do as you slowly descend to the bottom of the ocean. The submarine computer challenges you to a nice game of Dirac Dice.\n",
    "\n",
    "This game consists of a single die, two pawns, and a game board with a circular track containing ten spaces marked 1 through 10 clockwise. Each player's starting space is chosen randomly (your puzzle input). Player 1 goes first.\n",
    "\n",
    "Players take turns moving. On each player's turn, the player rolls the die three times and adds up the results. Then, the player moves their pawn that many times forward around the track (that is, moving clockwise on spaces in order of increasing value, wrapping back around to 1 after 10). So, if a player is on space 7 and they roll 2, 2, and 1, they would move forward 5 times, to spaces 8, 9, 10, 1, and finally stopping on 2.\n",
    "\n",
    "After each player moves, they increase their score by the value of the space their pawn stopped on. Players' scores start at 0. So, if the first player starts on space 7 and rolls a total of 5, they would stop on space 2 and add 2 to their score (for a total score of 2). The game immediately ends as a win for any player whose score reaches at least 1000.\n",
    "\n",
    "Since the first game is a practice game, the submarine opens a compartment labeled **deterministic dice** and a 100-sided die falls out. This die always rolls 1 first, then 2, then 3, and so on up to 100, after which it starts over at 1 again. Play using this die.\n",
    "\n",
    "For example, given these starting positions:\n",
    "\n",
    "    Player 1 starting position: 4\n",
    "    Player 2 starting position: 8\n",
    "\n",
    "This is how the game would go:\n",
    "\n",
    "- Player 1 rolls 1+2+3 and moves to space 10 for a total score of 10.\n",
    "- Player 2 rolls 4+5+6 and moves to space 3 for a total score of 3.\n",
    "- Player 1 rolls 7+8+9 and moves to space 4 for a total score of 14.\n",
    "- Player 2 rolls 10+11+12 and moves to space 6 for a total score of 9.\n",
    "- Player 1 rolls 13+14+15 and moves to space 6 for a total score of 20.\n",
    "- Player 2 rolls 16+17+18 and moves to space 7 for a total score of 16.\n",
    "- Player 1 rolls 19+20+21 and moves to space 6 for a total score of 26.\n",
    "- Player 2 rolls 22+23+24 and moves to space 6 for a total score of 22.\n",
    "\n",
    "...after many turns...\n",
    "\n",
    "- Player 2 rolls 82+83+84 and moves to space 6 for a total score of 742.\n",
    "- Player 1 rolls 85+86+87 and moves to space 4 for a total score of 990.\n",
    "- Player 2 rolls 88+89+90 and moves to space 3 for a total score of 745.\n",
    "- Player 1 rolls 91+92+93 and moves to space 10 for a final score, 1000.\n",
    "\n",
    "Since player 1 has at least 1000 points, player 1 wins and the game ends. At this point, the losing player had 745 points and the die had been rolled a total of 993 times; 745 * 993 = 739785.\n",
    "\n",
    "Play a practice game using the deterministic 100-sided die. The moment either player wins, what do you get if you multiply the score of the losing player by the number of times the die was rolled during the game?\n",
    "\n",
    "### Setup and Utilitise"
   ]
  },
  {
   "cell_type": "code",
   "execution_count": 1,
   "metadata": {},
   "outputs": [],
   "source": [
    "from utils import *\n",
    "\n",
    "_input = initDay(\"day21\")\n",
    "_sample = getMarkdown('For example')\n",
    "\n",
    "def parse(text):\n",
    "    return [int(v) for v in re.findall(r': (\\d+)', text)]\n",
    "\n",
    "def move(pos, roll):\n",
    "    return (pos-1+roll) % 10 + 1"
   ]
  },
  {
   "cell_type": "markdown",
   "metadata": {},
   "source": [
    "### Solution\n",
    "\n",
    "Stuff!\n",
    "\n",
    "* ???"
   ]
  },
  {
   "cell_type": "code",
   "execution_count": 2,
   "metadata": {},
   "outputs": [
    {
     "name": "stdout",
     "output_type": "stream",
     "text": [
      "Part 1 Result: 908091\n"
     ]
    }
   ],
   "source": [
    "def solve1(text):\n",
    "    \n",
    "    die, rolls = 1, 0\n",
    "    def roll():\n",
    "        nonlocal die, rolls\n",
    "        result = die\n",
    "        die = 1 if die == 100 else die+1\n",
    "        rolls += 1\n",
    "        return result\n",
    "\n",
    "    current, pos, score = 0, parse(text), [0, 0]\n",
    "    while True:\n",
    "        pos[current] = move(pos[current], roll()+roll()+roll())\n",
    "        score[current] += pos[current]\n",
    "\n",
    "        done = score[current] >= 1000\n",
    "        current = (current + 1) % 2\n",
    "\n",
    "        if done:\n",
    "            return score[current] * rolls\n",
    "\n",
    "\n",
    "check(solve1(_sample), 739785)\n",
    "check1(solve1(_input))"
   ]
  },
  {
   "cell_type": "markdown",
   "metadata": {},
   "source": [
    "## Part 2\n",
    "\n",
    "### Problem\n",
    "\n",
    "### Solution\n",
    "\n",
    "???\n",
    "\n",
    "* ???"
   ]
  },
  {
   "cell_type": "code",
   "execution_count": 3,
   "metadata": {},
   "outputs": [
    {
     "name": "stdout",
     "output_type": "stream",
     "text": [
      "Part 2 Result: 190897246590017\n"
     ]
    }
   ],
   "source": [
    "from collections import Counter\n",
    "\n",
    "def solve2(text):\n",
    "\n",
    "    # [score] -> # ways we can roll that score\n",
    "    rolls = Counter([sum(v) for v in itertools.product(range(1, 4), repeat=3)])\n",
    "\n",
    "    # [step] -> # ways to [p0 win/no-win], [p1 win/no-win]\n",
    "    state = [([0, 0], [0, 0]) for _ in range(20)]\n",
    "\n",
    "    def build(player, moves, ways, pos, score):\n",
    "        nonlocal state\n",
    "        for roll, rways in rolls.items():\n",
    "            nways, npos = ways * rways, move(pos, roll)\n",
    "            if (nscore := score + npos) >= 21:\n",
    "                state[moves][player][0] += nways\n",
    "            else:\n",
    "                state[moves][player][1] += nways\n",
    "                build(player, moves+1, nways, npos, nscore)\n",
    "\n",
    "    start = parse(text)\n",
    "    build(0, 0, 1, start[0], 0)\n",
    "    build(1, 0, 1, start[1], 0)\n",
    "\n",
    "    wins, ways = [0, 0], 1\n",
    "    for s, p in itertools.product(state, range(2)):\n",
    "        wins[p] += ways * s[p][0]\n",
    "        if not (ways := s[p][1]):\n",
    "            return max(wins)\n",
    "\n",
    "check(solve2(_sample), 444356092776315)\n",
    "check2(solve2(_input))"
   ]
  }
 ],
 "metadata": {
  "interpreter": {
   "hash": "259d46a856a68fc5aa2a45c3a00f90e52057802f6a8d13fbef7357a0788dbdf0"
  },
  "kernelspec": {
   "display_name": ".NET (C#)",
   "language": "python",
   "name": "python3"
  },
  "language_info": {
   "codemirror_mode": {
    "name": "ipython",
    "version": 3
   },
   "file_extension": ".py",
   "mimetype": "text/x-python",
   "name": "python",
   "nbconvert_exporter": "python",
   "pygments_lexer": "ipython3",
   "version": "3.10.1"
  },
  "orig_nbformat": 4
 },
 "nbformat": 4,
 "nbformat_minor": 2
}
