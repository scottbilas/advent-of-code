{
 "cells": [
  {
   "cell_type": "markdown",
   "metadata": {},
   "source": [
    "# Day 1 \"Sonar Sweep\"\n",
    "\n",
    "## Part 1\n",
    "\n",
    "### Problem\n",
    "\n",
    "You're minding your own business on a ship at sea when the overboard alarm goes off! You rush to see if you can help. Apparently, one of the Elves tripped and accidentally sent the sleigh keys flying into the ocean!\n",
    "\n",
    "Before you know it, you're inside a submarine the Elves keep ready for situations like this. It's covered in Christmas lights (because of course it is), and it even has an experimental antenna that should be able to track the keys if you can boost its signal strength high enough; there's a little meter that indicates the antenna's signal strength by displaying 0-50 stars.\n",
    "\n",
    "Your instincts tell you that in order to save Christmas, you'll need to get all fifty stars by December 25th.\n",
    "\n",
    "Collect stars by solving puzzles. Two puzzles will be made available on each day in the Advent calendar; the second puzzle is unlocked when you complete the first. Each puzzle grants one star. Good luck!\n",
    "\n",
    "As the submarine drops below the surface of the ocean, it automatically performs a sonar sweep of the nearby sea floor. On a small screen, the sonar sweep report (your puzzle input) appears: each line is a measurement of the sea floor depth as the sweep looks further and further away from the submarine.\n",
    "\n",
    "For example, suppose you had the following report:\n",
    "\n",
    "        199\n",
    "        200\n",
    "        208\n",
    "        210\n",
    "        200\n",
    "        207\n",
    "        240\n",
    "        269\n",
    "        260\n",
    "        263\n",
    "\n",
    "This report indicates that, scanning outward from the submarine, the sonar sweep found depths of 199, 200, 208, 210, and so on.\n",
    "\n",
    "The first order of business is to figure out how quickly the depth increases, just so you know what you're dealing with - you never know if the keys will get carried into deeper water by an ocean current or a fish or something.\n",
    "\n",
    "To do this, count the number of times a depth measurement increases from the previous measurement. (There is no measurement before the first measurement.) In the example above, the changes are as follows:\n",
    "\n",
    "        199 (N/A - no previous measurement)\n",
    "        200 (increased)\n",
    "        208 (increased)\n",
    "        210 (increased)\n",
    "        200 (decreased)\n",
    "        207 (increased)\n",
    "        240 (increased)\n",
    "        269 (increased)\n",
    "        260 (decreased)\n",
    "        263 (increased)\n",
    "\n",
    "In this example, there are 7 measurements that are larger than the previous measurement.\n",
    "\n",
    "How many measurements are larger than the previous measurement?\n",
    "\n",
    "### Setup\n",
    "\n",
    "Parse and style."
   ]
  },
  {
   "cell_type": "code",
   "execution_count": 41,
   "metadata": {},
   "outputs": [
    {
     "data": {
      "image/png": "[encoded data removed]",
      "text/plain": [
       "<Figure size 720x144 with 1 Axes>"
      ]
     },
     "metadata": {},
     "output_type": "display_data"
    }
   ],
   "source": [
    "from utils import *\n",
    "\n",
    "_input = initDay(\"day1\")\n",
    "_inputData = [int(x) for x in re.findall('\\d+', _input)]\n",
    "\n",
    "_sampleData = [199, 200, 208, 210, 200, 207, 240, 269, 260, 263]\n",
    "\n",
    "def plot(title, data):\n",
    "    plotInvertY(.1)\n",
    "    plt.ylabel(\"depth\")\n",
    "    plt.title('   ' + title)\n",
    "    plt.plot(data)\n",
    "\n",
    "plot('Sample Data', _sampleData)"
   ]
  },
  {
   "cell_type": "code",
   "execution_count": 42,
   "metadata": {},
   "outputs": [
    {
     "data": {
      "image/png": "[encoded data removed]",
      "text/plain": [
       "<Figure size 720x144 with 1 Axes>"
      ]
     },
     "metadata": {},
     "output_type": "display_data"
    }
   ],
   "source": [
    "plot('Input Data', _inputData)"
   ]
  },
  {
   "cell_type": "markdown",
   "metadata": {},
   "source": [
    "### Solver\n",
    "\n",
    "Part 1 and 2 can use the same solver:\n",
    "\n",
    "* Walk list of ints\n",
    "* Sum a moving window of given size\n",
    "* Count instances where a sum is greater than the previous sum"
   ]
  },
  {
   "cell_type": "code",
   "execution_count": 43,
   "metadata": {},
   "outputs": [],
   "source": [
    "def solve(depths, window):\n",
    "    last, count = 0, 0\n",
    "    for i in range(len(depths) - window):\n",
    "        s = sum(depths[i:i+window])\n",
    "        count += 1 if s > last else 0\n",
    "        last = s\n",
    "    return count"
   ]
  },
  {
   "cell_type": "markdown",
   "metadata": {},
   "source": [
    "### Solution\n",
    "\n",
    "Window size = 1."
   ]
  },
  {
   "cell_type": "code",
   "execution_count": 44,
   "metadata": {
    "dotnet_interactive": {
     "language": "pwsh"
    }
   },
   "outputs": [
    {
     "name": "stdout",
     "output_type": "stream",
     "text": [
      "Part 1 Result: 1681\n"
     ]
    }
   ],
   "source": [
    "def solve1(depths):\n",
    "    return solve(depths, 1)\n",
    "\n",
    "check(solve1(_sampleData), 7)\n",
    "check1(solve1(_inputData))"
   ]
  },
  {
   "cell_type": "markdown",
   "metadata": {},
   "source": [
    "## Part 2\n",
    "\n",
    "### Problem\n",
    "\n",
    "Considering every single measurement isn't as useful as you expected: there's just too much noise in the data.\n",
    "\n",
    "Instead, consider sums of a three-measurement sliding window. Again considering the above example:\n",
    "\n",
    "        199  A\n",
    "        200  A B\n",
    "        208  A B C\n",
    "        210    B C D\n",
    "        200  E   C D\n",
    "        207  E F   D\n",
    "        240  E F G\n",
    "        269    F G H\n",
    "        260      G H\n",
    "        263        H\n",
    "\n",
    "Start by comparing the first and second three-measurement windows. The measurements in the first window are marked A (199, 200, 208); their sum is 199 + 200 + 208 = 607. The second window is marked B (200, 208, 210); its sum is 618. The sum of measurements in the second window is larger than the sum of the first, so this first comparison increased.\n",
    "\n",
    "Your goal now is to count the number of times the sum of measurements in this sliding window increases from the previous sum. So, compare A with B, then compare B with C, then C with D, and so on. Stop when there aren't enough measurements left to create a new three-measurement sum.\n",
    "\n",
    "In the above example, the sum of each three-measurement window is as follows:\n",
    "\n",
    "        A: 607 (N/A - no previous sum)\n",
    "        B: 618 (increased)\n",
    "        C: 618 (no change)\n",
    "        D: 617 (decreased)\n",
    "        E: 647 (increased)\n",
    "        F: 716 (increased)\n",
    "        G: 769 (increased)\n",
    "        H: 792 (increased)\n",
    "\n",
    "In this example, there are 5 sums that are larger than the previous sum.\n",
    "\n",
    "Consider sums of a three-measurement sliding window. How many sums are larger than the previous sum?\n",
    "\n",
    "### Solution\n",
    "\n",
    "Window size = 3."
   ]
  },
  {
   "cell_type": "code",
   "execution_count": 45,
   "metadata": {},
   "outputs": [
    {
     "name": "stdout",
     "output_type": "stream",
     "text": [
      "Part 2 Result: 1704\n"
     ]
    }
   ],
   "source": [
    "def solve2(depths):\n",
    "    return solve(depths, 3)\n",
    "\n",
    "check(solve2(_sampleData), 5)\n",
    "check2(solve2(_inputData))"
   ]
  }
 ],
 "metadata": {
  "interpreter": {
   "hash": "259d46a856a68fc5aa2a45c3a00f90e52057802f6a8d13fbef7357a0788dbdf0"
  },
  "kernelspec": {
   "display_name": ".NET (C#)",
   "language": "python",
   "name": "python3"
  },
  "language_info": {
   "codemirror_mode": {
    "name": "ipython",
    "version": 3
   },
   "file_extension": ".py",
   "mimetype": "text/x-python",
   "name": "python",
   "nbconvert_exporter": "python",
   "pygments_lexer": "ipython3",
   "version": "3.10.0"
  },
  "orig_nbformat": 4
 },
 "nbformat": 4,
 "nbformat_minor": 2
}
