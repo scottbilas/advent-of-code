{
 "cells": [
  {
   "cell_type": "markdown",
   "metadata": {},
   "source": [
    "# Day 9 \"Smoke Basin\"\n",
    "\n",
    "## Part 1\n",
    "\n",
    "### Problem\n",
    "\n",
    "These caves seem to be lava tubes. Parts are even still volcanically active; small hydrothermal vents release smoke into the caves that slowly settles like rain.\n",
    "\n",
    "If you can model how the smoke flows through the caves, you might be able to avoid it and be that much safer. The submarine generates a heightmap of the floor of the nearby caves for you (your puzzle input).\n",
    "\n",
    "Smoke flows to the lowest point of the area it's in. For example, consider the following heightmap:\n",
    "\n",
    "    2199943210\n",
    "    3987894921\n",
    "    9856789892\n",
    "    8767896789\n",
    "    9899965678\n",
    "\n",
    "Each number corresponds to the height of a particular location, where 9 is the highest and 0 is the lowest a location can be.\n",
    "\n",
    "Your first goal is to find the low points - the locations that are lower than any of its adjacent locations. Most locations have four adjacent locations (up, down, left, and right); locations on the edge or corner of the map have three or two adjacent locations, respectively. (Diagonal locations do not count as adjacent.)\n",
    "\n",
    "In the above example, there are four low points, all highlighted: two are in the first row (a 1 and a 0), one is in the third row (a 5), and one is in the bottom row (also a 5). All other locations on the heightmap have some lower adjacent location, and so are not low points.\n",
    "\n",
    "The risk level of a low point is 1 plus its height. In the above example, the risk levels of the low points are 2, 1, 6, and 6. The sum of the risk levels of all low points in the heightmap is therefore 15.\n",
    "\n",
    "Find all of the low points on your heightmap. What is the sum of the risk levels of all low points on your heightmap?\n",
    "\n",
    "### Setup\n",
    "\n",
    "Data model is a simple array, with a '9' border to simplify the code by getting rid of bounds tests, which also enables nice offset-based addressing."
   ]
  },
  {
   "cell_type": "code",
   "execution_count": 1,
   "metadata": {},
   "outputs": [],
   "source": [
    "from utils import *\n",
    "\n",
    "_input = initDay('day9')\n",
    "_sample = getMarkdown('For example')\n",
    "\n",
    "class Board:\n",
    "    def __init__(self, text):\n",
    "        lines = [l.strip() for l in text.strip().splitlines()]  # parse\n",
    "        self.cx, self.cy = len(lines[0])+2, len(lines)+2        # dimensions w border\n",
    "        self.adj = [-self.cx, -1, 1, self.cx]                   # adjacent cell offsets\n",
    "        self.grid = (\n",
    "            [9]*self.cx +                                       # top border\n",
    "            [int(c) for l in lines for c in ('9'+l+'9')] +      # line as ints + borders\n",
    "            [9]*self.cx)                                        # bottom border\n",
    "\n",
    "    def plot(self):\n",
    "        xy = []\n",
    "        for y in range(self.cy):\n",
    "            xy.append([self.grid[y*self.cx+x] / 9 for x in range(self.cx)])\n",
    "\n",
    "        plt.figure(figsize=(self.cx/12, self.cy/12))\n",
    "        fig = plt.imshow(xy, cmap='ocean', interpolation='nearest')\n",
    "        fig.axes.get_xaxis().set_visible(False)\n",
    "        fig.axes.get_yaxis().set_visible(False)\n"
   ]
  },
  {
   "cell_type": "markdown",
   "metadata": {},
   "source": [
    "### Solution\n",
    "\n",
    "Both problem parts need the ability to find all minima. To do this, go through each cell, yield any that are the minimum of their adjacents.\n",
    "\n",
    "The problem is simple math after that."
   ]
  },
  {
   "cell_type": "code",
   "execution_count": 2,
   "metadata": {},
   "outputs": [
    {
     "name": "stdout",
     "output_type": "stream",
     "text": [
      "Part 1 Result: 588\n"
     ]
    },
    {
     "data": {
      "image/png": "[encoded data removed]",
      "text/plain": [
       "<Figure size 72x42 with 1 Axes>"
      ]
     },
     "metadata": {},
     "output_type": "display_data"
    },
    {
     "data": {
      "image/png": "[encoded data removed]",
      "text/plain": [
       "<Figure size 612x612 with 1 Axes>"
      ]
     },
     "metadata": {},
     "output_type": "display_data"
    }
   ],
   "source": [
    "def select_minima(board):\n",
    "    for base in [y*board.cx+x for y in range(1, board.cy-1) for x in range(1, board.cx-1)]:\n",
    "        if all([board.grid[base] < board.grid[base+o] for o in board.adj]):\n",
    "            yield base\n",
    "\n",
    "def solve1(text):\n",
    "    board = Board(text)\n",
    "    board.plot()\n",
    "    return sum([board.grid[o]+1 for o in select_minima(board)])\n",
    "\n",
    "check(solve1(_sample), 15)\n",
    "check1(solve1(_input))"
   ]
  },
  {
   "cell_type": "markdown",
   "metadata": {},
   "source": [
    "## Part 2\n",
    "\n",
    "### Problem\n",
    "\n",
    "Next, you need to find the largest basins so you know what areas are most important to avoid.\n",
    "\n",
    "A basin is all locations that eventually flow downward to a single low point. Therefore, every low point has a basin, although some basins are very small. Locations of height 9 do not count as being in any basin, and all other locations will always be part of exactly one basin.\n",
    "\n",
    "The size of a basin is the number of locations within the basin, including the low point. The example above has four basins.\n",
    "\n",
    "The top-left basin, size 3:\n",
    "\n",
    "    2199943210\n",
    "    ^^\n",
    "    3987894921\n",
    "    ^\n",
    "    9856789892\n",
    "\n",
    "    8767896789\n",
    "\n",
    "    9899965678\n",
    "\n",
    "The top-right basin, size 9:\n",
    "\n",
    "    2199943210\n",
    "         ^^^^^\n",
    "    3987894921\n",
    "          ^ ^^\n",
    "    9856789892\n",
    "            ^\n",
    "    8767896789\n",
    "\n",
    "    9899965678\n",
    "\n",
    "The middle basin, size 14:\n",
    "\n",
    "    2199943210\n",
    "\n",
    "    3987894921\n",
    "      ^^^\n",
    "    9856789892\n",
    "     ^^^^^\n",
    "    8767896789\n",
    "    ^^^^^\n",
    "    9899965678\n",
    "     ^\n",
    "\n",
    "The bottom-right basin, size 9:\n",
    "\n",
    "    2199943210\n",
    "\n",
    "    3987894921\n",
    "\n",
    "    9856789892\n",
    "           ^\n",
    "    8767896789\n",
    "          ^^^\n",
    "    9899965678\n",
    "         ^^^^^\n",
    "\n",
    "Find the three largest basins and multiply their sizes together. In the above example, this is `9 * 14 * 9 = 1134`.\n",
    "\n",
    "What do you get if you multiply together the sizes of the three largest basins?\n",
    "\n",
    "### Solution\n",
    "\n",
    "For each minima, do a depth first walk, returning on any 9. Count visited cells, and also set them to 9 to mark them as visited.\n",
    "\n",
    "Result is some simple math."
   ]
  },
  {
   "cell_type": "code",
   "execution_count": 3,
   "metadata": {},
   "outputs": [
    {
     "name": "stdout",
     "output_type": "stream",
     "text": [
      "Part 2 Result: 964712\n"
     ]
    }
   ],
   "source": [
    "def solve2(text):\n",
    "    board = Board(text)\n",
    "\n",
    "    def fill(off):\n",
    "        if board.grid[off] == 9:\n",
    "            return 0\n",
    "        board.grid[off] = 9\n",
    "        return sum([fill(off+o) for o in board.adj])+1\n",
    "\n",
    "    basins = [fill(base) for base in select_minima(board)]\n",
    "    return reduce((lambda a, b: a*b), sorted(basins)[-3:])\n",
    "\n",
    "check(solve2(_sample), 1134)\n",
    "check2(solve2(_input))"
   ]
  }
 ],
 "metadata": {
  "interpreter": {
   "hash": "259d46a856a68fc5aa2a45c3a00f90e52057802f6a8d13fbef7357a0788dbdf0"
  },
  "kernelspec": {
   "display_name": ".NET (C#)",
   "language": "python",
   "name": "python3"
  },
  "language_info": {
   "codemirror_mode": {
    "name": "ipython",
    "version": 3
   },
   "file_extension": ".py",
   "mimetype": "text/x-python",
   "name": "python",
   "nbconvert_exporter": "python",
   "pygments_lexer": "ipython3",
   "version": "3.10.1"
  },
  "orig_nbformat": 4
 },
 "nbformat": 4,
 "nbformat_minor": 2
}
