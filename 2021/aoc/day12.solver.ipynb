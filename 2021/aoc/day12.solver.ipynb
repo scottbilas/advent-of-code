{
 "cells": [
  {
   "cell_type": "markdown",
   "metadata": {},
   "source": [
    "# Day 12 \"Passage Pathing\"\n",
    "\n",
    "## Part 1\n",
    "\n",
    "### Problem\n",
    "\n",
    "With your submarine's subterranean subsystems subsisting suboptimally, the only way you're getting out of this cave anytime soon is by finding a path yourself. Not just a path - the only way to know if you've found the best path is to find all of them.\n",
    "\n",
    "Fortunately, the sensors are still mostly working, and so you build a rough map of the remaining caves (your puzzle input). For example:\n",
    "\n",
    "    start-A\n",
    "    start-b\n",
    "    A-c\n",
    "    A-b\n",
    "    b-d\n",
    "    A-end\n",
    "    b-end\n",
    "\n",
    "This is a list of how all of the caves are connected. You start in the cave named start, and your destination is the cave named end. An entry like b-d means that cave b is connected to cave d - that is, you can move between them.\n",
    "\n",
    "So, the above cave system looks roughly like this:\n",
    "\n",
    "        start\n",
    "        /   \\\n",
    "    c--A-----b--d\n",
    "        \\   /\n",
    "        end\n",
    "\n",
    "Your goal is to find the number of distinct paths that start at start, end at end, and don't visit small caves more than once. There are two types of caves: big caves (written in uppercase, like A) and small caves (written in lowercase, like b). It would be a waste of time to visit any small cave more than once, but big caves are large enough that it might be worth visiting them multiple times. So, all paths you find should visit small caves at most once, and can visit big caves any number of times.\n",
    "\n",
    "Given these rules, there are 10 paths through this example cave system:\n",
    "\n",
    "    start,A,b,A,c,A,end\n",
    "    start,A,b,A,end\n",
    "    start,A,b,end\n",
    "    start,A,c,A,b,A,end\n",
    "    start,A,c,A,b,end\n",
    "    start,A,c,A,end\n",
    "    start,A,end\n",
    "    start,b,A,c,A,end\n",
    "    start,b,A,end\n",
    "    start,b,end\n",
    "\n",
    "(Each line in the above list corresponds to a single path; the caves visited by that path are listed in the order they are visited and separated by commas.)\n",
    "\n",
    "Note that in this cave system, cave d is never visited by any path: to do so, cave b would need to be visited twice (once on the way to cave d and a second time when returning from cave d), and since cave b is small, this is not allowed.\n",
    "\n",
    "Here is a slightly larger example:\n",
    "\n",
    "    dc-end\n",
    "    HN-start\n",
    "    start-kj\n",
    "    dc-start\n",
    "    dc-HN\n",
    "    LN-dc\n",
    "    HN-end\n",
    "    kj-sa\n",
    "    kj-HN\n",
    "    kj-dc\n",
    "\n",
    "The 19 paths through it are as follows:\n",
    "\n",
    "    start,HN,dc,HN,end\n",
    "    start,HN,dc,HN,kj,HN,end\n",
    "    start,HN,dc,end\n",
    "    start,HN,dc,kj,HN,end\n",
    "    start,HN,end\n",
    "    start,HN,kj,HN,dc,HN,end\n",
    "    start,HN,kj,HN,dc,end\n",
    "    start,HN,kj,HN,end\n",
    "    start,HN,kj,dc,HN,end\n",
    "    start,HN,kj,dc,end\n",
    "    start,dc,HN,end\n",
    "    start,dc,HN,kj,HN,end\n",
    "    start,dc,end\n",
    "    start,dc,kj,HN,end\n",
    "    start,kj,HN,dc,HN,end\n",
    "    start,kj,HN,dc,end\n",
    "    start,kj,HN,end\n",
    "    start,kj,dc,HN,end\n",
    "    start,kj,dc,end\n",
    "\n",
    "Finally, this even larger example has 226 paths through it:\n",
    "\n",
    "    fs-end\n",
    "    he-DX\n",
    "    fs-he\n",
    "    start-DX\n",
    "    pj-DX\n",
    "    end-zg\n",
    "    zg-sl\n",
    "    zg-pj\n",
    "    pj-he\n",
    "    RW-he\n",
    "    fs-DX\n",
    "    pj-RW\n",
    "    zg-RW\n",
    "    start-pj\n",
    "    he-WI\n",
    "    zg-he\n",
    "    pj-fs\n",
    "    start-RW\n",
    "\n",
    "How many paths through this cave system are there that visit small caves at most once?\n",
    "\n",
    "### Setup"
   ]
  },
  {
   "cell_type": "code",
   "execution_count": 1,
   "metadata": {},
   "outputs": [],
   "source": [
    "from utils import *\n",
    "\n",
    "_input = initDay('day12')\n",
    "\n",
    "_sample1      = getMarkdown('For example')\n",
    "_sample1part1 = getMarkdown('10 paths through')\n",
    "_sample2      = getMarkdown('slightly larger example')\n",
    "_sample2part1 = getMarkdown('19 paths through')\n",
    "_sample3      = getMarkdown('226 paths through')\n",
    "_sample1part2 = getMarkdown('36 possible paths through')\n",
    "\n",
    "def parse(text):\n",
    "    names = re.findall('\\w+', text)\n",
    "    nodes = {text:[] for text in names}\n",
    "    for link in zip(it := iter(names), it):\n",
    "        nodes[link[0]].append(link[1])\n",
    "        nodes[link[1]].append(link[0])\n",
    "    return nodes"
   ]
  },
  {
   "cell_type": "markdown",
   "metadata": {},
   "source": [
    "### Solution\n",
    "\n",
    "Build a graph and do depth-first search on it to collect the paths.\n",
    "\n",
    "My initial implementation only returned counts and had a bit of logic at `end` to avoid the duplication as in (2a) of the Part 2 Solution.\n",
    "\n",
    "Later I decided it's nice to validate against the sample answers, which requires recording all the paths for comparison. So in this version we build up the path as we go, adding it to the successful set on hitting `end`. We also use simple results deduplication to satisfy (2a). The code is simpler overall, though slower."
   ]
  },
  {
   "cell_type": "code",
   "execution_count": 2,
   "metadata": {},
   "outputs": [
    {
     "name": "stdout",
     "output_type": "stream",
     "text": [
      "Part 1 Result: 4754\n"
     ]
    }
   ],
   "source": [
    "def solve(text, part):\n",
    "    nodes, found, extravisit = parse(text), [], None\n",
    "\n",
    "    def walk(name, path):\n",
    "        path.append(name)\n",
    "\n",
    "        for link in nodes[name]:\n",
    "            nonlocal extravisit\n",
    "\n",
    "            # record the completed path\n",
    "            if link == 'end':\n",
    "                found.append(','.join(path + [link]))\n",
    "                continue\n",
    "\n",
    "            # small caves only visit once, unless it's the \"extravisit\" cave\n",
    "            small = link[0].islower()\n",
    "            if small and link in path and (link != extravisit or path.count(link) == 2):\n",
    "                continue\n",
    "\n",
    "            # continue search\n",
    "            walk(link, path)\n",
    "\n",
    "            # part 2 optionally permits a single small cave per path an extra visit\n",
    "            if part == 2 and small and not extravisit:\n",
    "                extravisit = link\n",
    "                walk(link, path)\n",
    "                extravisit = None\n",
    "\n",
    "        path.pop()\n",
    "\n",
    "    walk('start', [])\n",
    "\n",
    "    return sorted(dict.fromkeys(found))\n",
    "\n",
    "def solve1(text):\n",
    "    return len(solve(text, 1))\n",
    "\n",
    "check(solve1(_sample1), 10)\n",
    "assert solve(_sample1, 1) == _sample1part1.splitlines()\n",
    "\n",
    "check(solve1(_sample2), 19)\n",
    "assert solve(_sample2, 1) == _sample2part1.splitlines()\n",
    "\n",
    "check(solve1(_sample3), 226)\n",
    "check1(solve1(_input))"
   ]
  },
  {
   "cell_type": "markdown",
   "metadata": {},
   "source": [
    "## Part 2\n",
    "\n",
    "### Problem\n",
    "\n",
    "After reviewing the available paths, you realize you might have time to visit a single small cave twice. Specifically, big caves can be visited any number of times, a single small cave can be visited at most twice, and the remaining small caves can be visited at most once. However, the caves named start and end can only be visited exactly once each: once you leave the start cave, you may not return to it, and once you reach the end cave, the path must end immediately.\n",
    "\n",
    "Now, the 36 possible paths through the first example above are:\n",
    "\n",
    "    start,A,b,A,b,A,c,A,end\n",
    "    start,A,b,A,b,A,end\n",
    "    start,A,b,A,b,end\n",
    "    start,A,b,A,c,A,b,A,end\n",
    "    start,A,b,A,c,A,b,end\n",
    "    start,A,b,A,c,A,c,A,end\n",
    "    start,A,b,A,c,A,end\n",
    "    start,A,b,A,end\n",
    "    start,A,b,d,b,A,c,A,end\n",
    "    start,A,b,d,b,A,end\n",
    "    start,A,b,d,b,end\n",
    "    start,A,b,end\n",
    "    start,A,c,A,b,A,b,A,end\n",
    "    start,A,c,A,b,A,b,end\n",
    "    start,A,c,A,b,A,c,A,end\n",
    "    start,A,c,A,b,A,end\n",
    "    start,A,c,A,b,d,b,A,end\n",
    "    start,A,c,A,b,d,b,end\n",
    "    start,A,c,A,b,end\n",
    "    start,A,c,A,c,A,b,A,end\n",
    "    start,A,c,A,c,A,b,end\n",
    "    start,A,c,A,c,A,end\n",
    "    start,A,c,A,end\n",
    "    start,A,end\n",
    "    start,b,A,b,A,c,A,end\n",
    "    start,b,A,b,A,end\n",
    "    start,b,A,b,end\n",
    "    start,b,A,c,A,b,A,end\n",
    "    start,b,A,c,A,b,end\n",
    "    start,b,A,c,A,c,A,end\n",
    "    start,b,A,c,A,end\n",
    "    start,b,A,end\n",
    "    start,b,d,b,A,c,A,end\n",
    "    start,b,d,b,A,end\n",
    "    start,b,d,b,end\n",
    "    start,b,end\n",
    "\n",
    "The slightly larger example above now has 103 paths through it, and the even larger example now has 3509 paths through it.\n",
    "\n",
    "Given these new rules, how many paths through this cave system are there?\n",
    "\n",
    "### Solution\n",
    "\n",
    "Almost the same as Part 1, except we need to permit a double-visit of a single small cave on any given path.\n",
    "\n",
    "Upon encountering a given small cave, there are now two possible branches:\n",
    "\n",
    "1. The normal one-visit-permitted walk as in Part 1. The path from this point cannot contain this cave again.\n",
    "2. The special two-visit-permitted walk. The path from this point can contain this cave exactly once again. And (2a) further, to avoid duplication with branch #1, the path from this point _must_ contain this cave again.\n",
    "\n",
    "To satisfy (2a), we can simply remove duplicate paths from the results."
   ]
  },
  {
   "cell_type": "code",
   "execution_count": 3,
   "metadata": {},
   "outputs": [
    {
     "name": "stdout",
     "output_type": "stream",
     "text": [
      "Part 2 Result: 143562\n"
     ]
    }
   ],
   "source": [
    "def solve2(text):\n",
    "    return len(solve(text, 2))\n",
    "\n",
    "check(solve2(_sample1), 36)\n",
    "assert(solve(_sample1, 2)) == _sample1part2.splitlines()\n",
    "\n",
    "check(solve2(_sample2), 103)\n",
    "check(solve2(_sample3), 3509)\n",
    "check2(solve2(_input))"
   ]
  },
  {
   "cell_type": "markdown",
   "metadata": {},
   "source": [
    "## Graphs\n",
    "\n",
    "For fun, here are the caves!"
   ]
  },
  {
   "cell_type": "code",
   "execution_count": 4,
   "metadata": {},
   "outputs": [
    {
     "data": {
      "image/svg+xml": "<?xml version=\"1.0\" encoding=\"UTF-8\" standalone=\"no\"?>\n<!DOCTYPE svg PUBLIC \"-//W3C//DTD SVG 1.1//EN\"\n \"http://www.w3.org/Graphics/SVG/1.1/DTD/svg11.dtd\">\n<!-- Generated by graphviz version 2.49.3 (20211023.0002)\n -->\n<!-- Pages: 1 -->\n<svg width=\"161pt\" height=\"283pt\"\n viewBox=\"0.00 0.00 161.00 283.00\" xmlns=\"http://www.w3.org/2000/svg\" xmlns:xlink=\"http://www.w3.org/1999/xlink\">\n<g id=\"graph0\" class=\"graph\" transform=\"scale(1 1) rotate(0) translate(4 279)\">\n<polygon fill=\"white\" stroke=\"transparent\" points=\"-4,4 -4,-279 157,-279 157,4 -4,4\"/>\n<text text-anchor=\"middle\" x=\"76.5\" y=\"-259.8\" font-family=\"Times New Roman,serif\" font-size=\"14.00\">Sample Data 1</text>\n<!-- start -->\n<g id=\"node1\" class=\"node\">\n<title>start</title>\n<ellipse fill=\"none\" stroke=\"black\" cx=\"62\" cy=\"-234\" rx=\"27\" ry=\"18\"/>\n<text text-anchor=\"middle\" x=\"62\" y=\"-230.3\" font-family=\"Times New Roman,serif\" font-size=\"14.00\">start</text>\n</g>\n<!-- A -->\n<g id=\"node2\" class=\"node\">\n<title>A</title>\n<ellipse fill=\"none\" stroke=\"black\" cx=\"94\" cy=\"-162\" rx=\"27\" ry=\"18\"/>\n<text text-anchor=\"middle\" x=\"94\" y=\"-158.3\" font-family=\"Times New Roman,serif\" font-size=\"14.00\">A</text>\n</g>\n<!-- start&#45;&#45;A -->\n<g id=\"edge1\" class=\"edge\">\n<title>start&#45;&#45;A</title>\n<path fill=\"none\" stroke=\"black\" d=\"M69.58,-216.41C74.68,-205.25 81.38,-190.6 86.47,-179.47\"/>\n</g>\n<!-- b -->\n<g id=\"node3\" class=\"node\">\n<title>b</title>\n<ellipse fill=\"none\" stroke=\"black\" cx=\"27\" cy=\"-90\" rx=\"27\" ry=\"18\"/>\n<text text-anchor=\"middle\" x=\"27\" y=\"-86.3\" font-family=\"Times New Roman,serif\" font-size=\"14.00\">b</text>\n</g>\n<!-- start&#45;&#45;b -->\n<g id=\"edge2\" class=\"edge\">\n<title>start&#45;&#45;b</title>\n<path fill=\"none\" stroke=\"black\" d=\"M57.85,-216.15C51.11,-188.82 37.88,-135.14 31.15,-107.82\"/>\n</g>\n<!-- A&#45;&#45;b -->\n<g id=\"edge4\" class=\"edge\">\n<title>A&#45;&#45;b</title>\n<path fill=\"none\" stroke=\"black\" d=\"M80.12,-146.5C68.62,-134.48 52.36,-117.49 40.86,-105.49\"/>\n</g>\n<!-- c -->\n<g id=\"node4\" class=\"node\">\n<title>c</title>\n<ellipse fill=\"none\" stroke=\"black\" cx=\"99\" cy=\"-90\" rx=\"27\" ry=\"18\"/>\n<text text-anchor=\"middle\" x=\"99\" y=\"-86.3\" font-family=\"Times New Roman,serif\" font-size=\"14.00\">c</text>\n</g>\n<!-- A&#45;&#45;c -->\n<g id=\"edge3\" class=\"edge\">\n<title>A&#45;&#45;c</title>\n<path fill=\"none\" stroke=\"black\" d=\"M95.24,-143.7C96.01,-132.85 97.01,-118.92 97.78,-108.1\"/>\n</g>\n<!-- end -->\n<g id=\"node6\" class=\"node\">\n<title>end</title>\n<ellipse fill=\"none\" stroke=\"black\" cx=\"126\" cy=\"-18\" rx=\"27\" ry=\"18\"/>\n<text text-anchor=\"middle\" x=\"126\" y=\"-14.3\" font-family=\"Times New Roman,serif\" font-size=\"14.00\">end</text>\n</g>\n<!-- A&#45;&#45;end -->\n<g id=\"edge6\" class=\"edge\">\n<title>A&#45;&#45;end</title>\n<path fill=\"none\" stroke=\"black\" d=\"M109.21,-146.85C118.63,-136.99 129.89,-122.97 135,-108 143.23,-83.9 137.22,-54.15 131.84,-35.88\"/>\n</g>\n<!-- d -->\n<g id=\"node5\" class=\"node\">\n<title>d</title>\n<ellipse fill=\"none\" stroke=\"black\" cx=\"27\" cy=\"-18\" rx=\"27\" ry=\"18\"/>\n<text text-anchor=\"middle\" x=\"27\" y=\"-14.3\" font-family=\"Times New Roman,serif\" font-size=\"14.00\">d</text>\n</g>\n<!-- b&#45;&#45;d -->\n<g id=\"edge5\" class=\"edge\">\n<title>b&#45;&#45;d</title>\n<path fill=\"none\" stroke=\"black\" d=\"M27,-71.7C27,-60.85 27,-46.92 27,-36.1\"/>\n</g>\n<!-- b&#45;&#45;end -->\n<g id=\"edge7\" class=\"edge\">\n<title>b&#45;&#45;end</title>\n<path fill=\"none\" stroke=\"black\" d=\"M45.16,-76.16C63.02,-63.53 90.13,-44.36 107.96,-31.76\"/>\n</g>\n</g>\n</svg>\n",
      "text/plain": [
       "<graphviz.graphs.Graph at 0x222a7d27400>"
      ]
     },
     "metadata": {},
     "output_type": "display_data"
    },
    {
     "data": {
      "image/svg+xml": "<?xml version=\"1.0\" encoding=\"UTF-8\" standalone=\"no\"?>\n<!DOCTYPE svg PUBLIC \"-//W3C//DTD SVG 1.1//EN\"\n \"http://www.w3.org/Graphics/SVG/1.1/DTD/svg11.dtd\">\n<!-- Generated by graphviz version 2.49.3 (20211023.0002)\n -->\n<!-- Pages: 1 -->\n<svg width=\"184pt\" height=\"427pt\"\n viewBox=\"0.00 0.00 184.27 427.00\" xmlns=\"http://www.w3.org/2000/svg\" xmlns:xlink=\"http://www.w3.org/1999/xlink\">\n<g id=\"graph0\" class=\"graph\" transform=\"scale(1 1) rotate(0) translate(4 423)\">\n<polygon fill=\"white\" stroke=\"transparent\" points=\"-4,4 -4,-423 180.27,-423 180.27,4 -4,4\"/>\n<text text-anchor=\"middle\" x=\"88.14\" y=\"-403.8\" font-family=\"Times New Roman,serif\" font-size=\"14.00\">Sample Data 2</text>\n<!-- dc -->\n<g id=\"node1\" class=\"node\">\n<title>dc</title>\n<ellipse fill=\"none\" stroke=\"black\" cx=\"109\" cy=\"-306\" rx=\"27\" ry=\"18\"/>\n<text text-anchor=\"middle\" x=\"109\" y=\"-302.3\" font-family=\"Times New Roman,serif\" font-size=\"14.00\">dc</text>\n</g>\n<!-- end -->\n<g id=\"node2\" class=\"node\">\n<title>end</title>\n<ellipse fill=\"none\" stroke=\"black\" cx=\"27\" cy=\"-162\" rx=\"27\" ry=\"18\"/>\n<text text-anchor=\"middle\" x=\"27\" y=\"-158.3\" font-family=\"Times New Roman,serif\" font-size=\"14.00\">end</text>\n</g>\n<!-- dc&#45;&#45;end -->\n<g id=\"edge1\" class=\"edge\">\n<title>dc&#45;&#45;end</title>\n<path fill=\"none\" stroke=\"black\" d=\"M89.46,-293.57C75.21,-284.21 56.6,-269.64 46,-252 32.58,-229.65 28.56,-199.14 27.41,-180.27\"/>\n</g>\n<!-- HN -->\n<g id=\"node3\" class=\"node\">\n<title>HN</title>\n<ellipse fill=\"none\" stroke=\"black\" cx=\"82\" cy=\"-234\" rx=\"27\" ry=\"18\"/>\n<text text-anchor=\"middle\" x=\"82\" y=\"-230.3\" font-family=\"Times New Roman,serif\" font-size=\"14.00\">HN</text>\n</g>\n<!-- dc&#45;&#45;HN -->\n<g id=\"edge5\" class=\"edge\">\n<title>dc&#45;&#45;HN</title>\n<path fill=\"none\" stroke=\"black\" d=\"M102.6,-288.41C98.36,-277.41 92.81,-263.03 88.54,-251.96\"/>\n</g>\n<!-- start -->\n<g id=\"node4\" class=\"node\">\n<title>start</title>\n<ellipse fill=\"none\" stroke=\"black\" cx=\"137\" cy=\"-162\" rx=\"27\" ry=\"18\"/>\n<text text-anchor=\"middle\" x=\"137\" y=\"-158.3\" font-family=\"Times New Roman,serif\" font-size=\"14.00\">start</text>\n</g>\n<!-- dc&#45;&#45;start -->\n<g id=\"edge4\" class=\"edge\">\n<title>dc&#45;&#45;start</title>\n<path fill=\"none\" stroke=\"black\" d=\"M112.38,-287.87C117.76,-260.58 128.22,-207.52 133.61,-180.19\"/>\n</g>\n<!-- HN&#45;&#45;end -->\n<g id=\"edge7\" class=\"edge\">\n<title>HN&#45;&#45;end</title>\n<path fill=\"none\" stroke=\"black\" d=\"M70.07,-217.81C60.84,-206.07 48.13,-189.89 38.91,-178.16\"/>\n</g>\n<!-- HN&#45;&#45;start -->\n<g id=\"edge2\" class=\"edge\">\n<title>HN&#45;&#45;start</title>\n<path fill=\"none\" stroke=\"black\" d=\"M93.93,-217.81C103.16,-206.07 115.87,-189.89 125.09,-178.16\"/>\n</g>\n<!-- kj -->\n<g id=\"node5\" class=\"node\">\n<title>kj</title>\n<ellipse fill=\"none\" stroke=\"black\" cx=\"137\" cy=\"-90\" rx=\"27\" ry=\"18\"/>\n<text text-anchor=\"middle\" x=\"137\" y=\"-86.3\" font-family=\"Times New Roman,serif\" font-size=\"14.00\">kj</text>\n</g>\n<!-- start&#45;&#45;kj -->\n<g id=\"edge3\" class=\"edge\">\n<title>start&#45;&#45;kj</title>\n<path fill=\"none\" stroke=\"black\" d=\"M137,-143.7C137,-132.85 137,-118.92 137,-108.1\"/>\n</g>\n<!-- kj&#45;&#45;dc -->\n<g id=\"edge10\" class=\"edge\">\n<title>kj&#45;&#45;dc</title>\n<path fill=\"none\" stroke=\"black\" d=\"M150.75,-105.93C158.96,-115.9 168.62,-129.75 173,-144 177.7,-159.29 176.68,-164.43 173,-180 162.97,-222.47 135.68,-266.66 120.17,-289.4\"/>\n</g>\n<!-- kj&#45;&#45;HN -->\n<g id=\"edge9\" class=\"edge\">\n<title>kj&#45;&#45;HN</title>\n<path fill=\"none\" stroke=\"black\" d=\"M124.25,-106.3C116.44,-116.41 106.85,-130.29 101,-144 90.83,-167.83 85.89,-197.65 83.66,-216.01\"/>\n</g>\n<!-- sa -->\n<g id=\"node7\" class=\"node\">\n<title>sa</title>\n<ellipse fill=\"none\" stroke=\"black\" cx=\"137\" cy=\"-18\" rx=\"27\" ry=\"18\"/>\n<text text-anchor=\"middle\" x=\"137\" y=\"-14.3\" font-family=\"Times New Roman,serif\" font-size=\"14.00\">sa</text>\n</g>\n<!-- kj&#45;&#45;sa -->\n<g id=\"edge8\" class=\"edge\">\n<title>kj&#45;&#45;sa</title>\n<path fill=\"none\" stroke=\"black\" d=\"M137,-71.7C137,-60.85 137,-46.92 137,-36.1\"/>\n</g>\n<!-- LN -->\n<g id=\"node6\" class=\"node\">\n<title>LN</title>\n<ellipse fill=\"none\" stroke=\"black\" cx=\"109\" cy=\"-378\" rx=\"27\" ry=\"18\"/>\n<text text-anchor=\"middle\" x=\"109\" y=\"-374.3\" font-family=\"Times New Roman,serif\" font-size=\"14.00\">LN</text>\n</g>\n<!-- LN&#45;&#45;dc -->\n<g id=\"edge6\" class=\"edge\">\n<title>LN&#45;&#45;dc</title>\n<path fill=\"none\" stroke=\"black\" d=\"M109,-359.7C109,-348.85 109,-334.92 109,-324.1\"/>\n</g>\n</g>\n</svg>\n",
      "text/plain": [
       "<graphviz.graphs.Graph at 0x222a7d25060>"
      ]
     },
     "metadata": {},
     "output_type": "display_data"
    },
    {
     "data": {
      "image/svg+xml": "<?xml version=\"1.0\" encoding=\"UTF-8\" standalone=\"no\"?>\n<!DOCTYPE svg PUBLIC \"-//W3C//DTD SVG 1.1//EN\"\n \"http://www.w3.org/Graphics/SVG/1.1/DTD/svg11.dtd\">\n<!-- Generated by graphviz version 2.49.3 (20211023.0002)\n -->\n<!-- Pages: 1 -->\n<svg width=\"342pt\" height=\"499pt\"\n viewBox=\"0.00 0.00 342.00 499.00\" xmlns=\"http://www.w3.org/2000/svg\" xmlns:xlink=\"http://www.w3.org/1999/xlink\">\n<g id=\"graph0\" class=\"graph\" transform=\"scale(1 1) rotate(0) translate(4 495)\">\n<polygon fill=\"white\" stroke=\"transparent\" points=\"-4,4 -4,-495 338,-495 338,4 -4,4\"/>\n<text text-anchor=\"middle\" x=\"167\" y=\"-475.8\" font-family=\"Times New Roman,serif\" font-size=\"14.00\">Sample Data 3</text>\n<!-- fs -->\n<g id=\"node1\" class=\"node\">\n<title>fs</title>\n<ellipse fill=\"none\" stroke=\"black\" cx=\"175\" cy=\"-450\" rx=\"27\" ry=\"18\"/>\n<text text-anchor=\"middle\" x=\"175\" y=\"-446.3\" font-family=\"Times New Roman,serif\" font-size=\"14.00\">fs</text>\n</g>\n<!-- end -->\n<g id=\"node2\" class=\"node\">\n<title>end</title>\n<ellipse fill=\"none\" stroke=\"black\" cx=\"148\" cy=\"-378\" rx=\"27\" ry=\"18\"/>\n<text text-anchor=\"middle\" x=\"148\" y=\"-374.3\" font-family=\"Times New Roman,serif\" font-size=\"14.00\">end</text>\n</g>\n<!-- fs&#45;&#45;end -->\n<g id=\"edge1\" class=\"edge\">\n<title>fs&#45;&#45;end</title>\n<path fill=\"none\" stroke=\"black\" d=\"M168.6,-432.41C164.36,-421.41 158.81,-407.03 154.54,-395.96\"/>\n</g>\n<!-- he -->\n<g id=\"node3\" class=\"node\">\n<title>he</title>\n<ellipse fill=\"none\" stroke=\"black\" cx=\"148\" cy=\"-90\" rx=\"27\" ry=\"18\"/>\n<text text-anchor=\"middle\" x=\"148\" y=\"-86.3\" font-family=\"Times New Roman,serif\" font-size=\"14.00\">he</text>\n</g>\n<!-- fs&#45;&#45;he -->\n<g id=\"edge3\" class=\"edge\">\n<title>fs&#45;&#45;he</title>\n<path fill=\"none\" stroke=\"black\" d=\"M150.67,-441.89C102.58,-426.18 0,-383.69 0,-307 0,-307 0,-307 0,-233 0,-164.28 84.12,-118.47 125.52,-100.08\"/>\n</g>\n<!-- DX -->\n<g id=\"node4\" class=\"node\">\n<title>DX</title>\n<ellipse fill=\"none\" stroke=\"black\" cx=\"277\" cy=\"-18\" rx=\"27\" ry=\"18\"/>\n<text text-anchor=\"middle\" x=\"277\" y=\"-14.3\" font-family=\"Times New Roman,serif\" font-size=\"14.00\">DX</text>\n</g>\n<!-- fs&#45;&#45;DX -->\n<g id=\"edge11\" class=\"edge\">\n<title>fs&#45;&#45;DX</title>\n<path fill=\"none\" stroke=\"black\" d=\"M198.46,-440.68C242.69,-423.33 334,-378.8 334,-307 334,-307 334,-307 334,-161 334,-112.12 304.55,-60.15 287.99,-34.78\"/>\n</g>\n<!-- zg -->\n<g id=\"node7\" class=\"node\">\n<title>zg</title>\n<ellipse fill=\"none\" stroke=\"black\" cx=\"148\" cy=\"-306\" rx=\"27\" ry=\"18\"/>\n<text text-anchor=\"middle\" x=\"148\" y=\"-302.3\" font-family=\"Times New Roman,serif\" font-size=\"14.00\">zg</text>\n</g>\n<!-- end&#45;&#45;zg -->\n<g id=\"edge6\" class=\"edge\">\n<title>end&#45;&#45;zg</title>\n<path fill=\"none\" stroke=\"black\" d=\"M148,-359.7C148,-348.85 148,-334.92 148,-324.1\"/>\n</g>\n<!-- he&#45;&#45;DX -->\n<g id=\"edge2\" class=\"edge\">\n<title>he&#45;&#45;DX</title>\n<path fill=\"none\" stroke=\"black\" d=\"M168.44,-77.91C192.6,-64.8 232.54,-43.12 256.66,-30.04\"/>\n</g>\n<!-- WI -->\n<g id=\"node10\" class=\"node\">\n<title>WI</title>\n<ellipse fill=\"none\" stroke=\"black\" cx=\"148\" cy=\"-18\" rx=\"27\" ry=\"18\"/>\n<text text-anchor=\"middle\" x=\"148\" y=\"-14.3\" font-family=\"Times New Roman,serif\" font-size=\"14.00\">WI</text>\n</g>\n<!-- he&#45;&#45;WI -->\n<g id=\"edge15\" class=\"edge\">\n<title>he&#45;&#45;WI</title>\n<path fill=\"none\" stroke=\"black\" d=\"M148,-71.7C148,-60.85 148,-46.92 148,-36.1\"/>\n</g>\n<!-- start -->\n<g id=\"node5\" class=\"node\">\n<title>start</title>\n<ellipse fill=\"none\" stroke=\"black\" cx=\"258\" cy=\"-306\" rx=\"27\" ry=\"18\"/>\n<text text-anchor=\"middle\" x=\"258\" y=\"-302.3\" font-family=\"Times New Roman,serif\" font-size=\"14.00\">start</text>\n</g>\n<!-- start&#45;&#45;DX -->\n<g id=\"edge4\" class=\"edge\">\n<title>start&#45;&#45;DX</title>\n<path fill=\"none\" stroke=\"black\" d=\"M260.44,-287.92C265.17,-253.81 275.45,-174.8 279,-108 279.85,-92.02 279.3,-88 279,-72 278.77,-60.03 278.26,-46.55 277.81,-36.18\"/>\n</g>\n<!-- pj -->\n<g id=\"node6\" class=\"node\">\n<title>pj</title>\n<ellipse fill=\"none\" stroke=\"black\" cx=\"203\" cy=\"-234\" rx=\"27\" ry=\"18\"/>\n<text text-anchor=\"middle\" x=\"203\" y=\"-230.3\" font-family=\"Times New Roman,serif\" font-size=\"14.00\">pj</text>\n</g>\n<!-- start&#45;&#45;pj -->\n<g id=\"edge14\" class=\"edge\">\n<title>start&#45;&#45;pj</title>\n<path fill=\"none\" stroke=\"black\" d=\"M246.07,-289.81C236.84,-278.07 224.13,-261.89 214.91,-250.16\"/>\n</g>\n<!-- RW -->\n<g id=\"node9\" class=\"node\">\n<title>RW</title>\n<ellipse fill=\"none\" stroke=\"black\" cx=\"203\" cy=\"-162\" rx=\"27\" ry=\"18\"/>\n<text text-anchor=\"middle\" x=\"203\" y=\"-158.3\" font-family=\"Times New Roman,serif\" font-size=\"14.00\">RW</text>\n</g>\n<!-- start&#45;&#45;RW -->\n<g id=\"edge18\" class=\"edge\">\n<title>start&#45;&#45;RW</title>\n<path fill=\"none\" stroke=\"black\" d=\"M256.34,-288.01C254.11,-269.65 249.17,-239.83 239,-216 233.15,-202.29 223.56,-188.41 215.75,-178.3\"/>\n</g>\n<!-- pj&#45;&#45;fs -->\n<g id=\"edge17\" class=\"edge\">\n<title>pj&#45;&#45;fs</title>\n<path fill=\"none\" stroke=\"black\" d=\"M201.24,-252.43C198.18,-282.01 191.49,-343.9 184,-396 182.27,-408.01 179.98,-421.49 178.14,-431.85\"/>\n</g>\n<!-- pj&#45;&#45;he -->\n<g id=\"edge9\" class=\"edge\">\n<title>pj&#45;&#45;he</title>\n<path fill=\"none\" stroke=\"black\" d=\"M190.25,-217.7C182.44,-207.59 172.85,-193.71 167,-180 156.83,-156.17 151.89,-126.35 149.66,-107.99\"/>\n</g>\n<!-- pj&#45;&#45;DX -->\n<g id=\"edge5\" class=\"edge\">\n<title>pj&#45;&#45;DX</title>\n<path fill=\"none\" stroke=\"black\" d=\"M215.65,-217.66C223.42,-207.53 233,-193.64 239,-180 260.85,-130.31 271.15,-66.24 275.04,-36.1\"/>\n</g>\n<!-- pj&#45;&#45;RW -->\n<g id=\"edge12\" class=\"edge\">\n<title>pj&#45;&#45;RW</title>\n<path fill=\"none\" stroke=\"black\" d=\"M203,-215.7C203,-204.85 203,-190.92 203,-180.1\"/>\n</g>\n<!-- zg&#45;&#45;he -->\n<g id=\"edge16\" class=\"edge\">\n<title>zg&#45;&#45;he</title>\n<path fill=\"none\" stroke=\"black\" d=\"M148,-287.85C148,-247.78 148,-148.38 148,-108.23\"/>\n</g>\n<!-- zg&#45;&#45;pj -->\n<g id=\"edge8\" class=\"edge\">\n<title>zg&#45;&#45;pj</title>\n<path fill=\"none\" stroke=\"black\" d=\"M159.93,-289.81C169.16,-278.07 181.87,-261.89 191.09,-250.16\"/>\n</g>\n<!-- sl -->\n<g id=\"node8\" class=\"node\">\n<title>sl</title>\n<ellipse fill=\"none\" stroke=\"black\" cx=\"55\" cy=\"-234\" rx=\"27\" ry=\"18\"/>\n<text text-anchor=\"middle\" x=\"55\" y=\"-230.3\" font-family=\"Times New Roman,serif\" font-size=\"14.00\">sl</text>\n</g>\n<!-- zg&#45;&#45;sl -->\n<g id=\"edge7\" class=\"edge\">\n<title>zg&#45;&#45;sl</title>\n<path fill=\"none\" stroke=\"black\" d=\"M130.51,-291.83C113.88,-279.32 89.02,-260.6 72.41,-248.11\"/>\n</g>\n<!-- zg&#45;&#45;RW -->\n<g id=\"edge13\" class=\"edge\">\n<title>zg&#45;&#45;RW</title>\n<path fill=\"none\" stroke=\"black\" d=\"M149.66,-288.01C151.89,-269.65 156.83,-239.83 167,-216 172.85,-202.29 182.44,-188.41 190.25,-178.3\"/>\n</g>\n<!-- RW&#45;&#45;he -->\n<g id=\"edge10\" class=\"edge\">\n<title>RW&#45;&#45;he</title>\n<path fill=\"none\" stroke=\"black\" d=\"M191.07,-145.81C181.84,-134.07 169.13,-117.89 159.91,-106.16\"/>\n</g>\n</g>\n</svg>\n",
      "text/plain": [
       "<graphviz.graphs.Graph at 0x222a7cf1a80>"
      ]
     },
     "metadata": {},
     "output_type": "display_data"
    },
    {
     "data": {
      "image/svg+xml": "<?xml version=\"1.0\" encoding=\"UTF-8\" standalone=\"no\"?>\n<!DOCTYPE svg PUBLIC \"-//W3C//DTD SVG 1.1//EN\"\n \"http://www.w3.org/Graphics/SVG/1.1/DTD/svg11.dtd\">\n<!-- Generated by graphviz version 2.49.3 (20211023.0002)\n -->\n<!-- Pages: 1 -->\n<svg width=\"342pt\" height=\"571pt\"\n viewBox=\"0.00 0.00 342.00 571.00\" xmlns=\"http://www.w3.org/2000/svg\" xmlns:xlink=\"http://www.w3.org/1999/xlink\">\n<g id=\"graph0\" class=\"graph\" transform=\"scale(1 1) rotate(0) translate(4 567)\">\n<polygon fill=\"white\" stroke=\"transparent\" points=\"-4,4 -4,-567 338,-567 338,4 -4,4\"/>\n<text text-anchor=\"middle\" x=\"167\" y=\"-547.8\" font-family=\"Times New Roman,serif\" font-size=\"14.00\">Input Data</text>\n<!-- vp -->\n<g id=\"node1\" class=\"node\">\n<title>vp</title>\n<ellipse fill=\"none\" stroke=\"black\" cx=\"55\" cy=\"-234\" rx=\"27\" ry=\"18\"/>\n<text text-anchor=\"middle\" x=\"55\" y=\"-230.3\" font-family=\"Times New Roman,serif\" font-size=\"14.00\">vp</text>\n</g>\n<!-- BY -->\n<g id=\"node2\" class=\"node\">\n<title>BY</title>\n<ellipse fill=\"none\" stroke=\"black\" cx=\"55\" cy=\"-162\" rx=\"27\" ry=\"18\"/>\n<text text-anchor=\"middle\" x=\"55\" y=\"-158.3\" font-family=\"Times New Roman,serif\" font-size=\"14.00\">BY</text>\n</g>\n<!-- vp&#45;&#45;BY -->\n<g id=\"edge1\" class=\"edge\">\n<title>vp&#45;&#45;BY</title>\n<path fill=\"none\" stroke=\"black\" d=\"M55,-215.7C55,-204.85 55,-190.92 55,-180.1\"/>\n</g>\n<!-- ui -->\n<g id=\"node3\" class=\"node\">\n<title>ui</title>\n<ellipse fill=\"none\" stroke=\"black\" cx=\"230\" cy=\"-18\" rx=\"27\" ry=\"18\"/>\n<text text-anchor=\"middle\" x=\"230\" y=\"-14.3\" font-family=\"Times New Roman,serif\" font-size=\"14.00\">ui</text>\n</g>\n<!-- oo -->\n<g id=\"node4\" class=\"node\">\n<title>oo</title>\n<ellipse fill=\"none\" stroke=\"black\" cx=\"241\" cy=\"-234\" rx=\"27\" ry=\"18\"/>\n<text text-anchor=\"middle\" x=\"241\" y=\"-230.3\" font-family=\"Times New Roman,serif\" font-size=\"14.00\">oo</text>\n</g>\n<!-- ui&#45;&#45;oo -->\n<g id=\"edge2\" class=\"edge\">\n<title>ui&#45;&#45;oo</title>\n<path fill=\"none\" stroke=\"black\" d=\"M233.6,-36.1C235.6,-46.44 237.91,-59.92 239,-72 243.71,-124.06 242.61,-185.97 241.67,-215.56\"/>\n</g>\n<!-- ij -->\n<g id=\"node7\" class=\"node\">\n<title>ij</title>\n<ellipse fill=\"none\" stroke=\"black\" cx=\"134\" cy=\"-450\" rx=\"27\" ry=\"18\"/>\n<text text-anchor=\"middle\" x=\"134\" y=\"-446.3\" font-family=\"Times New Roman,serif\" font-size=\"14.00\">ij</text>\n</g>\n<!-- ui&#45;&#45;ij -->\n<g id=\"edge13\" class=\"edge\">\n<title>ui&#45;&#45;ij</title>\n<path fill=\"none\" stroke=\"black\" d=\"M203.62,-22.64C143.2,-32.6 0,-66.21 0,-161 0,-307 0,-307 0,-307 0,-371.91 74.98,-419.17 112.77,-438.86\"/>\n</g>\n<!-- IY -->\n<g id=\"node6\" class=\"node\">\n<title>IY</title>\n<ellipse fill=\"none\" stroke=\"black\" cx=\"165\" cy=\"-162\" rx=\"27\" ry=\"18\"/>\n<text text-anchor=\"middle\" x=\"165\" y=\"-158.3\" font-family=\"Times New Roman,serif\" font-size=\"14.00\">IY</text>\n</g>\n<!-- oo&#45;&#45;IY -->\n<g id=\"edge10\" class=\"edge\">\n<title>oo&#45;&#45;IY</title>\n<path fill=\"none\" stroke=\"black\" d=\"M225.62,-218.83C212.43,-206.69 193.54,-189.28 180.36,-177.14\"/>\n</g>\n<!-- start -->\n<g id=\"node8\" class=\"node\">\n<title>start</title>\n<ellipse fill=\"none\" stroke=\"black\" cx=\"203\" cy=\"-90\" rx=\"27\" ry=\"18\"/>\n<text text-anchor=\"middle\" x=\"203\" y=\"-86.3\" font-family=\"Times New Roman,serif\" font-size=\"14.00\">start</text>\n</g>\n<!-- oo&#45;&#45;start -->\n<g id=\"edge5\" class=\"edge\">\n<title>oo&#45;&#45;start</title>\n<path fill=\"none\" stroke=\"black\" d=\"M236.49,-216.15C229.18,-188.82 214.81,-135.14 207.5,-107.82\"/>\n</g>\n<!-- kk -->\n<g id=\"node5\" class=\"node\">\n<title>kk</title>\n<ellipse fill=\"none\" stroke=\"black\" cx=\"224\" cy=\"-306\" rx=\"27\" ry=\"18\"/>\n<text text-anchor=\"middle\" x=\"224\" y=\"-302.3\" font-family=\"Times New Roman,serif\" font-size=\"14.00\">kk</text>\n</g>\n<!-- kk&#45;&#45;oo -->\n<g id=\"edge19\" class=\"edge\">\n<title>kk&#45;&#45;oo</title>\n<path fill=\"none\" stroke=\"black\" d=\"M228.12,-288.05C230.75,-277.21 234.16,-263.18 236.8,-252.28\"/>\n</g>\n<!-- kk&#45;&#45;IY -->\n<g id=\"edge3\" class=\"edge\">\n<title>kk&#45;&#45;IY</title>\n<path fill=\"none\" stroke=\"black\" d=\"M217.12,-288.43C205.75,-261.07 183.18,-206.75 171.84,-179.46\"/>\n</g>\n<!-- IY&#45;&#45;ui -->\n<g id=\"edge17\" class=\"edge\">\n<title>IY&#45;&#45;ui</title>\n<path fill=\"none\" stroke=\"black\" d=\"M161.4,-143.97C158.33,-125.32 155.98,-95 167,-72 175.9,-53.44 194.72,-38.99 209.48,-29.9\"/>\n</g>\n<!-- IY&#45;&#45;start -->\n<g id=\"edge20\" class=\"edge\">\n<title>IY&#45;&#45;start</title>\n<path fill=\"none\" stroke=\"black\" d=\"M173.81,-144.76C179.95,-133.46 188.11,-118.44 194.23,-107.15\"/>\n</g>\n<!-- ij&#45;&#45;vp -->\n<g id=\"edge4\" class=\"edge\">\n<title>ij&#45;&#45;vp</title>\n<path fill=\"none\" stroke=\"black\" d=\"M131.38,-431.91C126.34,-401.78 113.74,-337.73 91,-288 84.8,-274.44 75.23,-260.56 67.51,-250.4\"/>\n</g>\n<!-- ij&#45;&#45;kk -->\n<g id=\"edge23\" class=\"edge\">\n<title>ij&#45;&#45;kk</title>\n<path fill=\"none\" stroke=\"black\" d=\"M143.98,-433.26C161.28,-405.97 196.65,-350.15 213.98,-322.81\"/>\n</g>\n<!-- ij&#45;&#45;IY -->\n<g id=\"edge15\" class=\"edge\">\n<title>ij&#45;&#45;IY</title>\n<path fill=\"none\" stroke=\"black\" d=\"M135.85,-431.97C141.35,-381.22 157.59,-231.41 163.12,-180.31\"/>\n</g>\n<!-- UH -->\n<g id=\"node12\" class=\"node\">\n<title>UH</title>\n<ellipse fill=\"none\" stroke=\"black\" cx=\"279\" cy=\"-378\" rx=\"27\" ry=\"18\"/>\n<text text-anchor=\"middle\" x=\"279\" y=\"-374.3\" font-family=\"Times New Roman,serif\" font-size=\"14.00\">UH</text>\n</g>\n<!-- ij&#45;&#45;UH -->\n<g id=\"edge8\" class=\"edge\">\n<title>ij&#45;&#45;UH</title>\n<path fill=\"none\" stroke=\"black\" d=\"M155.4,-438.67C182.81,-425.44 230.06,-402.63 257.52,-389.37\"/>\n</g>\n<!-- start&#45;&#45;ui -->\n<g id=\"edge16\" class=\"edge\">\n<title>start&#45;&#45;ui</title>\n<path fill=\"none\" stroke=\"black\" d=\"M209.4,-72.41C213.64,-61.41 219.19,-47.03 223.46,-35.96\"/>\n</g>\n<!-- SP -->\n<g id=\"node9\" class=\"node\">\n<title>SP</title>\n<ellipse fill=\"none\" stroke=\"black\" cx=\"92\" cy=\"-522\" rx=\"27\" ry=\"18\"/>\n<text text-anchor=\"middle\" x=\"92\" y=\"-518.3\" font-family=\"Times New Roman,serif\" font-size=\"14.00\">SP</text>\n</g>\n<!-- SP&#45;&#45;vp -->\n<g id=\"edge12\" class=\"edge\">\n<title>SP&#45;&#45;vp</title>\n<path fill=\"none\" stroke=\"black\" d=\"M83.67,-504.7C67.3,-471.67 31.48,-394.02 19,-324 16.19,-308.25 14.3,-303.29 19,-288 23.38,-273.75 33.04,-259.9 41.25,-249.93\"/>\n</g>\n<!-- SP&#45;&#45;kk -->\n<g id=\"edge11\" class=\"edge\">\n<title>SP&#45;&#45;kk</title>\n<path fill=\"none\" stroke=\"black\" d=\"M113.76,-511.15C131.26,-502.2 155.26,-487.44 170,-468 204.02,-423.13 217.34,-355.59 221.9,-324.19\"/>\n</g>\n<!-- SP&#45;&#45;ij -->\n<g id=\"edge6\" class=\"edge\">\n<title>SP&#45;&#45;ij</title>\n<path fill=\"none\" stroke=\"black\" d=\"M101.53,-505.12C108.31,-493.82 117.38,-478.7 124.22,-467.31\"/>\n</g>\n<!-- end -->\n<g id=\"node13\" class=\"node\">\n<title>end</title>\n<ellipse fill=\"none\" stroke=\"black\" cx=\"55\" cy=\"-306\" rx=\"27\" ry=\"18\"/>\n<text text-anchor=\"middle\" x=\"55\" y=\"-302.3\" font-family=\"Times New Roman,serif\" font-size=\"14.00\">end</text>\n</g>\n<!-- SP&#45;&#45;end -->\n<g id=\"edge9\" class=\"edge\">\n<title>SP&#45;&#45;end</title>\n<path fill=\"none\" stroke=\"black\" d=\"M89.03,-503.85C82.09,-463.68 64.84,-363.89 57.93,-323.94\"/>\n</g>\n<!-- kg -->\n<g id=\"node10\" class=\"node\">\n<title>kg</title>\n<ellipse fill=\"none\" stroke=\"black\" cx=\"306\" cy=\"-522\" rx=\"27\" ry=\"18\"/>\n<text text-anchor=\"middle\" x=\"306\" y=\"-518.3\" font-family=\"Times New Roman,serif\" font-size=\"14.00\">kg</text>\n</g>\n<!-- uj -->\n<g id=\"node11\" class=\"node\">\n<title>uj</title>\n<ellipse fill=\"none\" stroke=\"black\" cx=\"306\" cy=\"-450\" rx=\"27\" ry=\"18\"/>\n<text text-anchor=\"middle\" x=\"306\" y=\"-446.3\" font-family=\"Times New Roman,serif\" font-size=\"14.00\">uj</text>\n</g>\n<!-- kg&#45;&#45;uj -->\n<g id=\"edge7\" class=\"edge\">\n<title>kg&#45;&#45;uj</title>\n<path fill=\"none\" stroke=\"black\" d=\"M306,-503.7C306,-492.85 306,-478.92 306,-468.1\"/>\n</g>\n<!-- uj&#45;&#45;ui -->\n<g id=\"edge18\" class=\"edge\">\n<title>uj&#45;&#45;ui</title>\n<path fill=\"none\" stroke=\"black\" d=\"M311.53,-432.16C319.69,-405.79 334,-352.98 334,-307 334,-307 334,-307 334,-161 334,-103.55 277.91,-53.9 248.12,-31.57\"/>\n</g>\n<!-- uj&#45;&#45;UH -->\n<g id=\"edge22\" class=\"edge\">\n<title>uj&#45;&#45;UH</title>\n<path fill=\"none\" stroke=\"black\" d=\"M299.6,-432.41C295.36,-421.41 289.81,-407.03 285.54,-395.96\"/>\n</g>\n<!-- UH&#45;&#45;ui -->\n<g id=\"edge14\" class=\"edge\">\n<title>UH&#45;&#45;ui</title>\n<path fill=\"none\" stroke=\"black\" d=\"M282.36,-360.03C287.31,-333.48 296,-280.44 296,-235 296,-235 296,-235 296,-161 296,-110.71 261.53,-58.95 242.41,-34.1\"/>\n</g>\n<!-- UH&#45;&#45;kk -->\n<g id=\"edge25\" class=\"edge\">\n<title>UH&#45;&#45;kk</title>\n<path fill=\"none\" stroke=\"black\" d=\"M267.07,-361.81C257.84,-350.07 245.13,-333.89 235.91,-322.16\"/>\n</g>\n<!-- UH&#45;&#45;end -->\n<g id=\"edge24\" class=\"edge\">\n<title>UH&#45;&#45;end</title>\n<path fill=\"none\" stroke=\"black\" d=\"M255.03,-369.51C212.03,-356.07 122.26,-328.02 79.14,-314.54\"/>\n</g>\n<!-- end&#45;&#45;vp -->\n<g id=\"edge21\" class=\"edge\">\n<title>end&#45;&#45;vp</title>\n<path fill=\"none\" stroke=\"black\" d=\"M55,-287.7C55,-276.85 55,-262.92 55,-252.1\"/>\n</g>\n</g>\n</svg>\n",
      "text/plain": [
       "<graphviz.graphs.Graph at 0x222a7d273d0>"
      ]
     },
     "metadata": {},
     "output_type": "display_data"
    }
   ],
   "source": [
    "def graph(text, title):\n",
    "\n",
    "    import graphviz\n",
    "    dot = graphviz.Graph(body=f'''\n",
    "        label     = \"{title}\"\n",
    "        labelloc  =  t // t: Place the graph's title on top.\n",
    "        ''')\n",
    "\n",
    "    names = re.findall('\\w+', text)\n",
    "    for name in dict.fromkeys(names):\n",
    "        dot.node(name)\n",
    "    for link in zip(it := iter(names), it):\n",
    "        dot.edge(link[0], link[1])\n",
    "\n",
    "    display(dot)\n",
    "\n",
    "graph(_sample1, \"Sample Data 1\")\n",
    "graph(_sample2, \"Sample Data 2\")\n",
    "graph(_sample3, \"Sample Data 3\")\n",
    "graph(_input, \"Input Data\")"
   ]
  }
 ],
 "metadata": {
  "interpreter": {
   "hash": "259d46a856a68fc5aa2a45c3a00f90e52057802f6a8d13fbef7357a0788dbdf0"
  },
  "kernelspec": {
   "display_name": ".NET (C#)",
   "language": "python",
   "name": "python3"
  },
  "language_info": {
   "codemirror_mode": {
    "name": "ipython",
    "version": 3
   },
   "file_extension": ".py",
   "mimetype": "text/x-python",
   "name": "python",
   "nbconvert_exporter": "python",
   "pygments_lexer": "ipython3",
   "version": "3.10.1"
  },
  "orig_nbformat": 4
 },
 "nbformat": 4,
 "nbformat_minor": 2
}
