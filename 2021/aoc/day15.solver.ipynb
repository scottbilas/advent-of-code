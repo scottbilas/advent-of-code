{
 "cells": [
  {
   "cell_type": "markdown",
   "metadata": {},
   "source": [
    "# Day 15 \"Chiton\"\n",
    "\n",
    "## Part 1\n",
    "\n",
    "### Problem\n",
    "\n",
    "You've almost reached the exit of the cave, but the walls are getting closer together. Your submarine can barely still fit, though; the main problem is that the walls of the cave are covered in chitons, and it would be best not to bump any of them.\n",
    "\n",
    "The cavern is large, but has a very low ceiling, restricting your motion to two dimensions. The shape of the cavern resembles a square; a quick scan of chiton density produces a map of risk level throughout the cave (your puzzle input). For example:\n",
    "\n",
    "    1163751742\n",
    "    1381373672\n",
    "    2136511328\n",
    "    3694931569\n",
    "    7463417111\n",
    "    1319128137\n",
    "    1359912421\n",
    "    3125421639\n",
    "    1293138521\n",
    "    2311944581\n",
    "\n",
    "You start in the top left position, your destination is the bottom right position, and you cannot move diagonally. The number at each position is its risk level; to determine the total risk of an entire path, add up the risk levels of each position you enter (that is, don't count the risk level of your starting position unless you enter it; leaving it adds no risk to your total).\n",
    "\n",
    "Your goal is to find a path with the lowest total risk. In this example, a path with the lowest total risk is highlighted here:\n",
    "\n",
    "    1163751742\n",
    "    ^\n",
    "    1381373672\n",
    "    ^\n",
    "    2136511328\n",
    "    ^^^^^^^\n",
    "    3694931569\n",
    "          ^^\n",
    "    7463417111\n",
    "           ^\n",
    "    1319128137\n",
    "           ^^\n",
    "    1359912421\n",
    "            ^\n",
    "    3125421639\n",
    "            ^\n",
    "    1293138521\n",
    "            ^^\n",
    "    2311944581\n",
    "             ^\n",
    "\n",
    "The total risk of this path is 40 (the starting position is never entered, so its risk is not counted).\n",
    "\n",
    "What is the lowest total risk of any path from the top left to the bottom right?\n",
    "\n",
    "### Setup"
   ]
  },
  {
   "cell_type": "code",
   "execution_count": 1,
   "metadata": {},
   "outputs": [],
   "source": [
    "from utils import *\n",
    "\n",
    "_input = initDay('day15')\n",
    "_sample = getMarkdown(\"For example\")\n",
    "\n",
    "class Board:\n",
    "    def __init__(self, text, mult = 1):\n",
    "        lines = [l.strip() for l in text.strip().splitlines()]  # parse\n",
    "        self.dim = len(lines)*mult+2                            # dimensions w/ border\n",
    "        self.adj = [-self.dim, -1, 1, self.dim]                 # adjacent cell offsets\n",
    "\n",
    "        self.grid = [0]*self.dim  # top border\n",
    "        for by in range(mult):\n",
    "            for line in lines:\n",
    "                self.grid.append(0)  # left border\n",
    "                for bx in range(mult):\n",
    "                    for c in line:\n",
    "                        v = int(c)+bx+by\n",
    "                        while v > 9: v -= 9\n",
    "                        self.grid.append(v)\n",
    "                self.grid.append(0)  # right border\n",
    "        self.grid += [0]*self.dim # bottom border\n",
    "\n",
    "    def dump(self):\n",
    "        for y in range(1, self.dim-1):\n",
    "            for x in range(1, self.dim-1):\n",
    "                print(self.grid[self.dim*y+x], end='')\n",
    "            print()\n",
    "        print()\n",
    "\n",
    "    def plot(self):\n",
    "        xy = []\n",
    "\n",
    "        for y in range(self.dim):\n",
    "            xy.append([self.grid[y*self.dim+x] / 10 for x in range(self.dim)])\n",
    "\n",
    "        plt.figure(figsize=(self.dim/12, self.dim/12))\n",
    "        fig = plt.imshow(xy, cmap='ocean', interpolation='nearest')\n",
    "        fig.axes.get_xaxis().set_visible(False)\n",
    "        fig.axes.get_yaxis().set_visible(False)"
   ]
  },
  {
   "cell_type": "markdown",
   "metadata": {},
   "source": [
    "### Solution\n",
    "\n",
    "Stuff!\n",
    "\n",
    "* ???"
   ]
  },
  {
   "cell_type": "code",
   "execution_count": 2,
   "metadata": {},
   "outputs": [
    {
     "name": "stdout",
     "output_type": "stream",
     "text": [
      "Part 1 Result: 373\n"
     ]
    }
   ],
   "source": [
    "from queue import PriorityQueue\n",
    "\n",
    "def solve(text, mult):\n",
    "\n",
    "    class Node:\n",
    "        def __init__(self, pos, cost):\n",
    "            self.pos, self.cost, self.est = pos, cost, 0\n",
    "\n",
    "    board = Board(text, mult)\n",
    "    work, end = [Node(board.dim+1, 0)], board.dim*(board.dim-1)-2\n",
    "\n",
    "    # work can get to 848 len, need to optimize the sorting and the find-existing\n",
    "\n",
    "    while work:\n",
    "        work = sorted(work, key=lambda x: x.est)\n",
    "        board.grid[(cur := work.pop(0)).pos] = 0\n",
    "\n",
    "        for adj in [cur.pos+o for o in board.adj]:\n",
    "            if not (cell := board.grid[adj]):\n",
    "                continue\n",
    "\n",
    "            next = Node(adj, cur.cost + cell)\n",
    "            if next.pos == end:\n",
    "                return next.cost\n",
    "\n",
    "            next.est = next.cost - next.pos/board.dim\n",
    "\n",
    "            found = False\n",
    "            for node in work:\n",
    "                if node.pos == next.pos:\n",
    "                    if node.cost > next.cost:\n",
    "                        node.cost = next.cost\n",
    "                    found = True\n",
    "                    break\n",
    "\n",
    "            if not found:\n",
    "                work.append(next)\n",
    "\n",
    "check(solve(_sample, 1), 40)\n",
    "check1(solve(_input, 1))"
   ]
  },
  {
   "cell_type": "markdown",
   "metadata": {},
   "source": [
    "## Part 2\n",
    "\n",
    "### Problem\n",
    "\n",
    "Now that you know how to find low-risk paths in the cave, you can try to find your way out.\n",
    "\n",
    "The entire cave is actually five times larger in both dimensions than you thought; the area you originally scanned is just one tile in a 5x5 tile area that forms the full map. Your original map tile repeats to the right and downward; each time the tile repeats to the right or downward, all of its risk levels are 1 higher than the tile immediately up or left of it. However, risk levels above 9 wrap back around to 1. So, if your original map had some position with a risk level of 8, then that same position on each of the 25 total tiles would be as follows:\n",
    "\n",
    "    8 9 1 2 3\n",
    "    9 1 2 3 4\n",
    "    1 2 3 4 5\n",
    "    2 3 4 5 6\n",
    "    3 4 5 6 7\n",
    "\n",
    "Each single digit above corresponds to the example position with a value of 8 on the top-left tile. Because the full map is actually five times larger in both dimensions, that position appears a total of 25 times, once in each duplicated tile, with the values shown above.\n",
    "\n",
    "Here is the full five-times-as-large version of the first example above, with the original map in the top left corner highlighted:\n",
    "\n",
    "    (elided for size.. see https://adventofcode.com/2021/day/15#part2)\n",
    "\n",
    "Equipped with the full map, you can now find a path from the top left corner to the bottom right corner with the lowest total risk:\n",
    "\n",
    "    (elided for size.. see https://adventofcode.com/2021/day/15#part2)\n",
    "\n",
    "The total risk of this path is 315 (the starting position is still never entered, so its risk is not counted).\n",
    "\n",
    "Using the full map, what is the lowest total risk of any path from the top left to the bottom right?\n",
    "\n",
    "### Solution\n",
    "\n",
    "???\n",
    "\n",
    "* ???"
   ]
  },
  {
   "cell_type": "code",
   "execution_count": 3,
   "metadata": {},
   "outputs": [
    {
     "name": "stdout",
     "output_type": "stream",
     "text": [
      "Part 2 Result: 2868\n"
     ]
    }
   ],
   "source": [
    "check(solve(_sample, 5), 315)\n",
    "check2(solve(_input, 5))"
   ]
  }
 ],
 "metadata": {
  "interpreter": {
   "hash": "259d46a856a68fc5aa2a45c3a00f90e52057802f6a8d13fbef7357a0788dbdf0"
  },
  "kernelspec": {
   "display_name": ".NET (C#)",
   "language": "python",
   "name": "python3"
  },
  "language_info": {
   "codemirror_mode": {
    "name": "ipython",
    "version": 3
   },
   "file_extension": ".py",
   "mimetype": "text/x-python",
   "name": "python",
   "nbconvert_exporter": "python",
   "pygments_lexer": "ipython3",
   "version": "3.10.1"
  },
  "orig_nbformat": 4
 },
 "nbformat": 4,
 "nbformat_minor": 2
}
