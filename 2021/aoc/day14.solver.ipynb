{
 "cells": [
  {
   "cell_type": "markdown",
   "metadata": {},
   "source": [
    "# Day 14 \"Extended Polymerization\"\n",
    "\n",
    "## Part 1\n",
    "\n",
    "### Problem\n",
    "\n",
    "The incredible pressures at this depth are starting to put a strain on your submarine. The submarine has polymerization equipment that would produce suitable materials to reinforce the submarine, and the nearby volcanically-active caves should even have the necessary input elements in sufficient quantities.\n",
    "\n",
    "The submarine manual contains instructions for finding the optimal polymer formula; specifically, it offers a polymer template and a list of pair insertion rules (your puzzle input). You just need to work out what polymer would result after repeating the pair insertion process a few times.\n",
    "\n",
    "For example:\n",
    "\n",
    "    NNCB\n",
    "\n",
    "    CH -> B\n",
    "    HH -> N\n",
    "    CB -> H\n",
    "    NH -> C\n",
    "    HB -> C\n",
    "    HC -> B\n",
    "    HN -> C\n",
    "    NN -> C\n",
    "    BH -> H\n",
    "    NC -> B\n",
    "    NB -> B\n",
    "    BN -> B\n",
    "    BB -> N\n",
    "    BC -> B\n",
    "    CC -> N\n",
    "    CN -> C\n",
    "\n",
    "The first line is the polymer template - this is the starting point of the process.\n",
    "\n",
    "The following section defines the pair insertion rules. A rule like AB -> C means that when elements A and B are immediately adjacent, element C should be inserted between them. These insertions all happen simultaneously.\n",
    "\n",
    "So, starting with the polymer template NNCB, the first step simultaneously considers all three pairs:\n",
    "\n",
    "* The first pair (NN) matches the rule NN -> C, so element C is inserted between the first N and the second N.\n",
    "* The second pair (NC) matches the rule NC -> B, so element B is inserted between the N and the C.\n",
    "* The third pair (CB) matches the rule CB -> H, so element H is inserted between the C and the B.\n",
    "\n",
    "Note that these pairs overlap: the second element of one pair is the first element of the next pair. Also, because all pairs are considered simultaneously, inserted elements are not considered to be part of a pair until the next step.\n",
    "\n",
    "After the first step of this process, the polymer becomes NCNBCHB.\n",
    "\n",
    "Here are the results of a few steps using the above rules:\n",
    "\n",
    "    Template:     NNCB\n",
    "    After step 1: NCNBCHB\n",
    "    After step 2: NBCCNBBBCBHCB\n",
    "    After step 3: NBBBCNCCNBBNBNBBCHBHHBCHB\n",
    "    After step 4: NBBNBNBBCCNBCNCCNBBNBBNBBBNBBNBBCBHCBHHNHCBBCBHCB\n",
    "\n",
    "This polymer grows quickly. After step 5, it has length 97; After step 10, it has length 3073. After step 10, B occurs 1749 times, C occurs 298 times, H occurs 191 times, and N occurs 865 times; taking the quantity of the most common element (B, 1749) and subtracting the quantity of the least common element (H, 161) produces 1749 - 161 = 1588.\n",
    "\n",
    "Apply 10 steps of pair insertion to the polymer template and find the most and least common elements in the result. What do you get if you take the quantity of the most common element and subtract the quantity of the least common element?\n",
    "\n",
    "### Setup\n",
    "\n",
    "Parse and style."
   ]
  },
  {
   "cell_type": "code",
   "execution_count": 25,
   "metadata": {},
   "outputs": [],
   "source": [
    "from utils import *\n",
    "\n",
    "_input = initDay('day14')\n",
    "_sample = getMarkdown('For example')\n",
    "\n",
    "def parse(text):\n",
    "    items = re.findall(r'\\w+', text)\n",
    "    rules = dict([(s, (s[0]+d, d+s[1])) for (s, d) in zip(items[1::2], items[2::2])])\n",
    "    pairs = dict([(pair, 0) for pair in rules.keys()])\n",
    "    for i in range(len(items[0])-1):\n",
    "        pairs[items[0][i:i+2]] += 1\n",
    "\n",
    "    return items[0], pairs, rules\n"
   ]
  },
  {
   "cell_type": "markdown",
   "metadata": {},
   "source": [
    "### Solution\n",
    "\n",
    "The sample walks through a process of building up a chain, but there is no reason to do this. The algorithm works on pairs, and the only thing relevant about the entire chain is that there is a begin and end which must be accounted for.\n",
    "\n",
    "The algorithm is simple:\n",
    "\n",
    "1. Break the input into pairs, recording how many times each occurs\n",
    "2. For each iteration, go through each pair and find the relevant rule to get the two new pairs to produce\n",
    "3. Increment the count of each new pair and reduce the count of the old pair by the size of the old pair\n",
    "4. Do some simple math to get the final answer\n",
    "\n",
    "Working in pairs means that we're duplicating each element once, so we cut in half for the answer. Note that the first and last input elements aren't doubled because there is no \"other\" side to them, so add them into the doubling to make them consistent."
   ]
  },
  {
   "cell_type": "code",
   "execution_count": 26,
   "metadata": {},
   "outputs": [
    {
     "name": "stdout",
     "output_type": "stream",
     "text": [
      "Part 1 Result: 4244\n"
     ]
    }
   ],
   "source": [
    "from collections import defaultdict\n",
    "\n",
    "def solve(text, steps):\n",
    "    input, pairs, rules = parse(text)\n",
    "    for _ in range(steps):\n",
    "        prev = dict(pairs)\n",
    "        for pair, count in prev.items():\n",
    "            dst = rules[pair]\n",
    "            pairs[dst[0]] += count\n",
    "            pairs[dst[1]] += count\n",
    "            pairs[pair] -= count\n",
    "\n",
    "    counts = defaultdict(lambda:0)\n",
    "    for pair, count in pairs.items():\n",
    "        counts[pair[0]] += count\n",
    "        counts[pair[1]] += count\n",
    "\n",
    "    # fix first/last to be doubled like the other pairs\n",
    "    counts[input[0]] += 1\n",
    "    counts[input[-1]] += 1\n",
    "\n",
    "    return max(counts.values())//2 - min(counts.values())//2\n",
    "\n",
    "check(solve(_sample, 10), 1588)\n",
    "check1(solve(_input, 10))"
   ]
  },
  {
   "cell_type": "markdown",
   "metadata": {},
   "source": [
    "## Part 2\n",
    "\n",
    "### Problem\n",
    "\n",
    "The resulting polymer isn't nearly strong enough to reinforce the submarine. You'll need to run more steps of the pair insertion process; a total of 40 steps should do it.\n",
    "\n",
    "In the above example, the most common element is B (occurring 2192039569602 times) and the least common element is H (occurring 3849876073 times); subtracting these produces 2188189693529.\n",
    "\n",
    "Apply 40 steps of pair insertion to the polymer template and find the most and least common elements in the result. What do you get if you take the quantity of the most common element and subtract the quantity of the least common element?\n",
    "\n",
    "### Solution\n",
    "\n",
    "Solution is the same, just more iterations."
   ]
  },
  {
   "cell_type": "code",
   "execution_count": 27,
   "metadata": {},
   "outputs": [
    {
     "name": "stdout",
     "output_type": "stream",
     "text": [
      "Part 2 Result: 4807056953866\n"
     ]
    }
   ],
   "source": [
    "check(solve(_sample, 40), 2188189693529)\n",
    "check2(solve(_input, 40))"
   ]
  }
 ],
 "metadata": {
  "interpreter": {
   "hash": "259d46a856a68fc5aa2a45c3a00f90e52057802f6a8d13fbef7357a0788dbdf0"
  },
  "kernelspec": {
   "display_name": ".NET (C#)",
   "language": "python",
   "name": "python3"
  },
  "language_info": {
   "codemirror_mode": {
    "name": "ipython",
    "version": 3
   },
   "file_extension": ".py",
   "mimetype": "text/x-python",
   "name": "python",
   "nbconvert_exporter": "python",
   "pygments_lexer": "ipython3",
   "version": "3.10.1"
  },
  "orig_nbformat": 4
 },
 "nbformat": 4,
 "nbformat_minor": 2
}
