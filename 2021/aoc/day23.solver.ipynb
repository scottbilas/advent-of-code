{
 "cells": [
  {
   "cell_type": "markdown",
   "metadata": {},
   "source": [
    "# Day 23 \"Amphipod\"\n",
    "\n",
    "## Part 1\n",
    "\n",
    "### Problem\n",
    "\n",
    "A group of amphipods notice your fancy submarine and flag you down. \"With such an impressive shell,\" one amphipod says, \"surely you can help us with a question that has stumped our best scientists.\"\n",
    "\n",
    "They go on to explain that a group of timid, stubborn amphipods live in a nearby burrow. Four types of amphipods live there: Amber (A), Bronze (B), Copper (C), and Desert (D). They live in a burrow that consists of a hallway and four side rooms. The side rooms are initially full of amphipods, and the hallway is initially empty.\n",
    "\n",
    "They give you a diagram of the situation (your puzzle input), including locations of each amphipod (A, B, C, or D, each of which is occupying an otherwise open space), walls (#), and open space (.).\n",
    "\n",
    "For example:\n",
    "\n",
    "    #############\n",
    "    #...........#\n",
    "    ###B#C#B#D###\n",
    "      #A#D#C#A#\n",
    "      #########\n",
    "\n",
    "The amphipods would like a method to organize every amphipod into side rooms so that each side room contains one type of amphipod and the types are sorted A-D going left to right, like this:\n",
    "\n",
    "    #############\n",
    "    #...........#\n",
    "    ###A#B#C#D###\n",
    "      #A#B#C#D#\n",
    "      #########\n",
    "\n",
    "Amphipods can move up, down, left, or right so long as they are moving into an unoccupied open space. Each type of amphipod requires a different amount of energy to move one step: Amber amphipods require 1 energy per step, Bronze amphipods require 10 energy, Copper amphipods require 100, and Desert ones require 1000. The amphipods would like you to find a way to organize the amphipods that requires the least total energy.\n",
    "\n",
    "However, because they are timid and stubborn, the amphipods have some extra rules:\n",
    "\n",
    "- Amphipods will never stop on the space immediately outside any room. They can move into that space so long as they immediately continue moving. (Specifically, this refers to the four open spaces in the hallway that are directly above an amphipod starting position.)\n",
    "- Amphipods will never move from the hallway into a room unless that room is their destination room and that room contains no amphipods which do not also have that room as their own destination. If an amphipod's starting room is not its destination room, it can stay in that room until it leaves the room. (For example, an Amber amphipod will not move from the hallway into the right three rooms, and will only move into the leftmost room if that room is empty or if it only contains other Amber amphipods.)\n",
    "- Once an amphipod stops moving in the hallway, it will stay in that spot until it can move into a room. (That is, once any amphipod starts moving, any other amphipods currently in the hallway are locked in place and will not move again until they can move fully into a room.)\n",
    "\n",
    "In the above example, the amphipods can be organized using a minimum of 12521 energy. One way to do this is shown below.\n",
    "\n",
    "Starting configuration:\n",
    "\n",
    "    #############\n",
    "    #...........#\n",
    "    ###B#C#B#D###\n",
    "      #A#D#C#A#\n",
    "      #########\n",
    "\n",
    "One Bronze amphipod moves into the hallway, taking 4 steps and using 40 energy:\n",
    "\n",
    "    #############\n",
    "    #...B.......#\n",
    "    ###B#C#.#D###\n",
    "      #A#D#C#A#\n",
    "      #########\n",
    "\n",
    "The only Copper amphipod not in its side room moves there, taking 4 steps and using 400 energy:\n",
    "\n",
    "    #############\n",
    "    #...B.......#\n",
    "    ###B#.#C#D###\n",
    "      #A#D#C#A#\n",
    "      #########\n",
    "\n",
    "A Desert amphipod moves out of the way, taking 3 steps and using 3000 energy, and then the Bronze amphipod takes its place, taking 3 steps and using 30 energy:\n",
    "\n",
    "    #############\n",
    "    #.....D.....#\n",
    "    ###B#.#C#D###\n",
    "      #A#B#C#A#\n",
    "      #########\n",
    "\n",
    "The leftmost Bronze amphipod moves to its room using 40 energy:\n",
    "\n",
    "    #############\n",
    "    #.....D.....#\n",
    "    ###.#B#C#D###\n",
    "      #A#B#C#A#\n",
    "      #########\n",
    "\n",
    "Both amphipods in the rightmost room move into the hallway, using 2003 energy in total:\n",
    "\n",
    "    #############\n",
    "    #.....D.D.A.#\n",
    "    ###.#B#C#.###\n",
    "      #A#B#C#.#\n",
    "      #########\n",
    "\n",
    "Both Desert amphipods move into the rightmost room using 7000 energy:\n",
    "\n",
    "    #############\n",
    "    #.........A.#\n",
    "    ###.#B#C#D###\n",
    "      #A#B#C#D#\n",
    "      #########\n",
    "\n",
    "Finally, the last Amber amphipod moves into its room, using 8 energy:\n",
    "\n",
    "    #############\n",
    "    #...........#\n",
    "    ###A#B#C#D###\n",
    "      #A#B#C#D#\n",
    "      #########\n",
    "\n",
    "What is the least energy required to organize the amphipods?\n",
    "\n",
    "### Setup\n"
   ]
  },
  {
   "cell_type": "code",
   "execution_count": 5,
   "metadata": {},
   "outputs": [],
   "source": [
    "from utils import *\n",
    "\n",
    "_input = initDay('day23')\n",
    "_sample = getMarkdown('Starting configuration')\n",
    "\n",
    "_costs = 1, 10, 100, 1000 # A, B, C, D\n"
   ]
  },
  {
   "cell_type": "markdown",
   "metadata": {},
   "source": [
    "### Solution\n",
    "\n",
    "Stuff!\n",
    "\n",
    "* ???"
   ]
  },
  {
   "cell_type": "code",
   "execution_count": 7,
   "metadata": {},
   "outputs": [
    {
     "name": "stdout",
     "output_type": "stream",
     "text": [
      "#############\n",
      "#...........#\n",
      "###B#C#B#D###\n",
      "  #A#D#C#A#\n",
      "  #########\n"
     ]
    }
   ],
   "source": [
    "class Node:\n",
    "    def __init__(self, links, value=None):\n",
    "        self.links = links\n",
    "        self.value = value\n",
    "\n",
    "    def __str__(self):\n",
    "        return self.value or '.'\n",
    "\n",
    "def dump(nodes):\n",
    "    print('#############')\n",
    "    print('#',nodes[0],nodes[1],'.',nodes[4],'.',nodes[7],'.',nodes[10],'.',nodes[13],nodes[14],'#',sep='')\n",
    "    print('###',nodes[2],'#',nodes[5],'#',nodes[8],'#',nodes[11],'###',sep='')\n",
    "    print('  #',nodes[3],'#',nodes[6],'#',nodes[9],'#',nodes[12],'#',sep='')\n",
    "    print('  #########')\n",
    "\n",
    "def parse(text):\n",
    "    start = re.findall('\\w', text)\n",
    "    return [\n",
    "        Node((1)),                     # 0\n",
    "        Node((0, 2, 4)),               # 1\n",
    "        Node((1, 3, 4), start[0]),     # 2\n",
    "        Node((2), start[4]),           # 3\n",
    "        Node((1, 2, 5, 7)),            # 4\n",
    "        Node((4, 6, 7), start[1]),     # 5\n",
    "        Node((5), start[5]),           # 6\n",
    "        Node((4, 5, 8, 10)),           # 7\n",
    "        Node((7, 9, 10), start[2]),    # 8\n",
    "        Node((8), start[6]),           # 9\n",
    "        Node((7, 8, 11, 13)),          # 10\n",
    "        Node((10, 12, 13), start[3]),  # 11\n",
    "        Node((11), start[7]),          # 12\n",
    "        Node((10, 11, 14)),            # 13\n",
    "        Node((13))                     # 14\n",
    "    ]\n",
    "\n",
    "'''\n",
    "#############\n",
    "#01.4.7.a.de#\n",
    "###2#5#8#b###\n",
    "  #3#6#9#c#\n",
    "  #########\n",
    "'''\n",
    "\n",
    "def solve1(text):\n",
    "    nodes = parse(text)\n",
    "    dump(nodes)\n",
    "    return 0\n",
    "\n",
    "check(solve1(_sample), 0) #$$$$12521)"
   ]
  },
  {
   "cell_type": "code",
   "execution_count": 3,
   "metadata": {},
   "outputs": [],
   "source": [
    "#check1(solve1(_inputData))\n",
    "#plot('Part 1: Input Data')"
   ]
  },
  {
   "cell_type": "markdown",
   "metadata": {},
   "source": [
    "## Part 2\n",
    "\n",
    "### Problem\n",
    "\n",
    "### Solution\n",
    "\n",
    "???\n",
    "\n",
    "* ???"
   ]
  },
  {
   "cell_type": "code",
   "execution_count": 4,
   "metadata": {},
   "outputs": [
    {
     "ename": "NameError",
     "evalue": "name '_sampleData' is not defined",
     "output_type": "error",
     "traceback": [
      "\u001b[1;31m---------------------------------------------------------------------------\u001b[0m",
      "\u001b[1;31mNameError\u001b[0m                                 Traceback (most recent call last)",
      "Input \u001b[1;32mIn [4]\u001b[0m, in \u001b[0;36m<module>\u001b[1;34m\u001b[0m\n\u001b[0;32m      1\u001b[0m \u001b[38;5;28;01mdef\u001b[39;00m \u001b[38;5;21msolve2\u001b[39m():\n\u001b[0;32m      2\u001b[0m     \u001b[38;5;28;01mreturn\u001b[39;00m \u001b[38;5;241m0\u001b[39m\n\u001b[1;32m----> 4\u001b[0m check(solve2(\u001b[43m_sampleData\u001b[49m), \u001b[38;5;241m0\u001b[39m)\n",
      "\u001b[1;31mNameError\u001b[0m: name '_sampleData' is not defined"
     ]
    }
   ],
   "source": [
    "def solve2():\n",
    "    return 0\n",
    "\n",
    "check(solve2(_sampleData), 0)\n",
    "#plot('Part 2: Sample Data')"
   ]
  },
  {
   "cell_type": "code",
   "execution_count": null,
   "metadata": {},
   "outputs": [],
   "source": [
    "check2(solve2(_inputData))\n",
    "#plot('Part 2: Input Data')"
   ]
  }
 ],
 "metadata": {
  "interpreter": {
   "hash": "259d46a856a68fc5aa2a45c3a00f90e52057802f6a8d13fbef7357a0788dbdf0"
  },
  "kernelspec": {
   "display_name": ".NET (C#)",
   "language": "python",
   "name": "python3"
  },
  "language_info": {
   "codemirror_mode": {
    "name": "ipython",
    "version": 3
   },
   "file_extension": ".py",
   "mimetype": "text/x-python",
   "name": "python",
   "nbconvert_exporter": "python",
   "pygments_lexer": "ipython3",
   "version": "3.10.2"
  },
  "orig_nbformat": 4
 },
 "nbformat": 4,
 "nbformat_minor": 2
}
