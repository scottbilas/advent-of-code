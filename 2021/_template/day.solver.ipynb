{
 "cells": [
  {
   "cell_type": "markdown",
   "metadata": {},
   "source": [
    "# Day ??? \"???\"\n",
    "\n",
    "## Part 1\n",
    "\n",
    "### Problem\n",
    "\n",
    "### Setup\n",
    "\n",
    "Parse and style."
   ]
  },
  {
   "cell_type": "code",
   "execution_count": null,
   "metadata": {},
   "outputs": [],
   "source": [
    "from utils import *\n",
    "\n",
    "_input = initDay(\"day???\")\n",
    "_inputData = #[(m, int(d)) for m, d in re.findall('(\\w+) (\\d+)', _input)]\n",
    "\n",
    "_sampleData = []\n",
    "\n",
    "#plotStyle()\n",
    "\n",
    "#def plot(title):\n",
    "#    plotInvertY(.1)\n",
    "#    plt.ylabel(\"depth\")\n",
    "#    plt.title('   ' + title)"
   ]
  },
  {
   "cell_type": "markdown",
   "metadata": {},
   "source": [
    "### Solution\n",
    "\n",
    "Stuff!\n",
    "\n",
    "* ???"
   ]
  },
  {
   "cell_type": "code",
   "execution_count": null,
   "metadata": {},
   "outputs": [],
   "source": [
    "def solve1():\n",
    "    return 0\n",
    "\n",
    "check(solve1(_sampleData), 0)\n",
    "#plot('Part 1: Sample Data')"
   ]
  },
  {
   "cell_type": "code",
   "execution_count": null,
   "metadata": {},
   "outputs": [],
   "source": [
    "#check1(solve1(_inputData))\n",
    "#plot('Part 1: Input Data')"
   ]
  },
  {
   "cell_type": "markdown",
   "metadata": {},
   "source": [
    "## Part 2\n",
    "\n",
    "### Problem\n",
    "\n",
    "### Solution\n",
    "\n",
    "???\n",
    "\n",
    "* ???"
   ]
  },
  {
   "cell_type": "code",
   "execution_count": null,
   "metadata": {},
   "outputs": [],
   "source": [
    "def solve2():\n",
    "    return 0\n",
    "\n",
    "check(solve2(_sampleData), 0)\n",
    "#plot('Part 2: Sample Data')"
   ]
  },
  {
   "cell_type": "code",
   "execution_count": null,
   "metadata": {},
   "outputs": [],
   "source": [
    "check2(solve2(_inputData))\n",
    "#plot('Part 2: Input Data')"
   ]
  }
 ],
 "metadata": {
  "interpreter": {
   "hash": "259d46a856a68fc5aa2a45c3a00f90e52057802f6a8d13fbef7357a0788dbdf0"
  },
  "kernelspec": {
   "display_name": ".NET (C#)",
   "language": "python",
   "name": "python3"
  },
  "language_info": {
   "codemirror_mode": {
    "name": "ipython",
    "version": 3
   },
   "file_extension": ".py",
   "mimetype": "text/x-python",
   "name": "python",
   "nbconvert_exporter": "python",
   "pygments_lexer": "ipython3",
   "version": "3.10.0"
  },
  "orig_nbformat": 4
 },
 "nbformat": 4,
 "nbformat_minor": 2
}
